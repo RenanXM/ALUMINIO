{
 "cells": [
  {
   "cell_type": "code",
   "execution_count": null,
   "id": "492326a9",
   "metadata": {},
   "outputs": [
    {
     "name": "stdout",
     "output_type": "stream",
     "text": [
      "DIMENSÃO ORIGINAL: (1304, 544)\n"
     ]
    },
    {
     "data": {
      "application/vnd.microsoft.datawrangler.viewer.v0+json": {
       "columns": [
        {
         "name": "index",
         "rawType": "int64",
         "type": "integer"
        },
        {
         "name": "date",
         "rawType": "datetime64[ns]",
         "type": "datetime"
        },
        {
         "name": "aluminum",
         "rawType": "float64",
         "type": "float"
        },
        {
         "name": "copper",
         "rawType": "float64",
         "type": "float"
        },
        {
         "name": "zinc",
         "rawType": "float64",
         "type": "float"
        },
        {
         "name": "tin",
         "rawType": "float64",
         "type": "float"
        },
        {
         "name": "lead",
         "rawType": "float64",
         "type": "float"
        },
        {
         "name": "steel",
         "rawType": "float64",
         "type": "float"
        },
        {
         "name": "oil",
         "rawType": "float64",
         "type": "float"
        },
        {
         "name": "gas",
         "rawType": "float64",
         "type": "float"
        },
        {
         "name": "dxy",
         "rawType": "float64",
         "type": "float"
        },
        {
         "name": "usdcny",
         "rawType": "float64",
         "type": "float"
        },
        {
         "name": "eurusd",
         "rawType": "float64",
         "type": "float"
        },
        {
         "name": "brlusd",
         "rawType": "float64",
         "type": "float"
        },
        {
         "name": "msci_em",
         "rawType": "float64",
         "type": "float"
        },
        {
         "name": "xlb",
         "rawType": "float64",
         "type": "float"
        },
        {
         "name": "pick",
         "rawType": "float64",
         "type": "float"
        },
        {
         "name": "fxi",
         "rawType": "float64",
         "type": "float"
        },
        {
         "name": "alcoa",
         "rawType": "float64",
         "type": "float"
        },
        {
         "name": "century_aluminum",
         "rawType": "float64",
         "type": "float"
        },
        {
         "name": "hindalco",
         "rawType": "float64",
         "type": "float"
        },
        {
         "name": "alum_pct",
         "rawType": "float64",
         "type": "float"
        },
        {
         "name": "aluminum_usdton",
         "rawType": "float64",
         "type": "float"
        },
        {
         "name": "copper_usdton",
         "rawType": "float64",
         "type": "float"
        },
        {
         "name": "zinc_usdton",
         "rawType": "float64",
         "type": "float"
        },
        {
         "name": "tin_usdton",
         "rawType": "float64",
         "type": "float"
        },
        {
         "name": "lead_usdton",
         "rawType": "float64",
         "type": "float"
        },
        {
         "name": "future_1d",
         "rawType": "float64",
         "type": "float"
        },
        {
         "name": "ret_1d",
         "rawType": "float64",
         "type": "float"
        },
        {
         "name": "bin_1d",
         "rawType": "object",
         "type": "string"
        },
        {
         "name": "future_5d",
         "rawType": "float64",
         "type": "float"
        },
        {
         "name": "ret_5d",
         "rawType": "float64",
         "type": "float"
        },
        {
         "name": "bin_5d",
         "rawType": "object",
         "type": "string"
        },
        {
         "name": "future_30d",
         "rawType": "float64",
         "type": "float"
        },
        {
         "name": "ret_30d",
         "rawType": "float64",
         "type": "float"
        },
        {
         "name": "bin_30d",
         "rawType": "object",
         "type": "string"
        },
        {
         "name": "future_90d",
         "rawType": "float64",
         "type": "float"
        },
        {
         "name": "ret_90d",
         "rawType": "float64",
         "type": "float"
        },
        {
         "name": "bin_90d",
         "rawType": "object",
         "type": "string"
        },
        {
         "name": "aluminum_usdton_ret1",
         "rawType": "float64",
         "type": "float"
        },
        {
         "name": "aluminum_usdton_logret1",
         "rawType": "float64",
         "type": "float"
        },
        {
         "name": "copper_usdton_ret1",
         "rawType": "float64",
         "type": "float"
        },
        {
         "name": "copper_usdton_logret1",
         "rawType": "float64",
         "type": "float"
        },
        {
         "name": "zinc_usdton_ret1",
         "rawType": "float64",
         "type": "float"
        },
        {
         "name": "zinc_usdton_logret1",
         "rawType": "float64",
         "type": "float"
        },
        {
         "name": "tin_usdton_ret1",
         "rawType": "float64",
         "type": "float"
        },
        {
         "name": "tin_usdton_logret1",
         "rawType": "float64",
         "type": "float"
        },
        {
         "name": "lead_usdton_ret1",
         "rawType": "float64",
         "type": "float"
        },
        {
         "name": "lead_usdton_logret1",
         "rawType": "float64",
         "type": "float"
        },
        {
         "name": "oil_ret1",
         "rawType": "float64",
         "type": "float"
        },
        {
         "name": "oil_logret1",
         "rawType": "float64",
         "type": "float"
        },
        {
         "name": "gas_ret1",
         "rawType": "float64",
         "type": "float"
        },
        {
         "name": "gas_logret1",
         "rawType": "float64",
         "type": "float"
        },
        {
         "name": "steel_ret1",
         "rawType": "float64",
         "type": "float"
        },
        {
         "name": "steel_logret1",
         "rawType": "float64",
         "type": "float"
        },
        {
         "name": "dxy_ret1",
         "rawType": "float64",
         "type": "float"
        },
        {
         "name": "dxy_logret1",
         "rawType": "float64",
         "type": "float"
        },
        {
         "name": "usdcny_ret1",
         "rawType": "float64",
         "type": "float"
        },
        {
         "name": "usdcny_logret1",
         "rawType": "float64",
         "type": "float"
        },
        {
         "name": "eurusd_ret1",
         "rawType": "float64",
         "type": "float"
        },
        {
         "name": "eurusd_logret1",
         "rawType": "float64",
         "type": "float"
        },
        {
         "name": "brlusd_ret1",
         "rawType": "float64",
         "type": "float"
        },
        {
         "name": "brlusd_logret1",
         "rawType": "float64",
         "type": "float"
        },
        {
         "name": "msci_em_ret1",
         "rawType": "float64",
         "type": "float"
        },
        {
         "name": "msci_em_logret1",
         "rawType": "float64",
         "type": "float"
        },
        {
         "name": "xlb_ret1",
         "rawType": "float64",
         "type": "float"
        },
        {
         "name": "xlb_logret1",
         "rawType": "float64",
         "type": "float"
        },
        {
         "name": "pick_ret1",
         "rawType": "float64",
         "type": "float"
        },
        {
         "name": "pick_logret1",
         "rawType": "float64",
         "type": "float"
        },
        {
         "name": "fxi_ret1",
         "rawType": "float64",
         "type": "float"
        },
        {
         "name": "fxi_logret1",
         "rawType": "float64",
         "type": "float"
        },
        {
         "name": "alcoa_ret1",
         "rawType": "float64",
         "type": "float"
        },
        {
         "name": "alcoa_logret1",
         "rawType": "float64",
         "type": "float"
        },
        {
         "name": "century_aluminum_ret1",
         "rawType": "float64",
         "type": "float"
        },
        {
         "name": "century_aluminum_logret1",
         "rawType": "float64",
         "type": "float"
        },
        {
         "name": "hindalco_ret1",
         "rawType": "float64",
         "type": "float"
        },
        {
         "name": "hindalco_logret1",
         "rawType": "float64",
         "type": "float"
        },
        {
         "name": "aluminum_usdton_ma5",
         "rawType": "float64",
         "type": "float"
        },
        {
         "name": "aluminum_usdton_std5",
         "rawType": "float64",
         "type": "float"
        },
        {
         "name": "aluminum_usdton_max5",
         "rawType": "float64",
         "type": "float"
        },
        {
         "name": "aluminum_usdton_min5",
         "rawType": "float64",
         "type": "float"
        },
        {
         "name": "aluminum_usdton_ma10",
         "rawType": "float64",
         "type": "float"
        },
        {
         "name": "aluminum_usdton_std10",
         "rawType": "float64",
         "type": "float"
        },
        {
         "name": "aluminum_usdton_max10",
         "rawType": "float64",
         "type": "float"
        },
        {
         "name": "aluminum_usdton_min10",
         "rawType": "float64",
         "type": "float"
        },
        {
         "name": "aluminum_usdton_ma21",
         "rawType": "float64",
         "type": "float"
        },
        {
         "name": "aluminum_usdton_std21",
         "rawType": "float64",
         "type": "float"
        },
        {
         "name": "aluminum_usdton_max21",
         "rawType": "float64",
         "type": "float"
        },
        {
         "name": "aluminum_usdton_min21",
         "rawType": "float64",
         "type": "float"
        },
        {
         "name": "copper_usdton_ma5",
         "rawType": "float64",
         "type": "float"
        },
        {
         "name": "copper_usdton_std5",
         "rawType": "float64",
         "type": "float"
        },
        {
         "name": "copper_usdton_max5",
         "rawType": "float64",
         "type": "float"
        },
        {
         "name": "copper_usdton_min5",
         "rawType": "float64",
         "type": "float"
        },
        {
         "name": "copper_usdton_ma10",
         "rawType": "float64",
         "type": "float"
        },
        {
         "name": "copper_usdton_std10",
         "rawType": "float64",
         "type": "float"
        },
        {
         "name": "copper_usdton_max10",
         "rawType": "float64",
         "type": "float"
        },
        {
         "name": "copper_usdton_min10",
         "rawType": "float64",
         "type": "float"
        },
        {
         "name": "copper_usdton_ma21",
         "rawType": "float64",
         "type": "float"
        },
        {
         "name": "copper_usdton_std21",
         "rawType": "float64",
         "type": "float"
        },
        {
         "name": "copper_usdton_max21",
         "rawType": "float64",
         "type": "float"
        },
        {
         "name": "copper_usdton_min21",
         "rawType": "float64",
         "type": "float"
        },
        {
         "name": "zinc_usdton_ma5",
         "rawType": "float64",
         "type": "float"
        },
        {
         "name": "zinc_usdton_std5",
         "rawType": "float64",
         "type": "float"
        },
        {
         "name": "zinc_usdton_max5",
         "rawType": "float64",
         "type": "float"
        },
        {
         "name": "zinc_usdton_min5",
         "rawType": "float64",
         "type": "float"
        },
        {
         "name": "zinc_usdton_ma10",
         "rawType": "float64",
         "type": "float"
        },
        {
         "name": "zinc_usdton_std10",
         "rawType": "float64",
         "type": "float"
        },
        {
         "name": "zinc_usdton_max10",
         "rawType": "float64",
         "type": "float"
        },
        {
         "name": "zinc_usdton_min10",
         "rawType": "float64",
         "type": "float"
        },
        {
         "name": "zinc_usdton_ma21",
         "rawType": "float64",
         "type": "float"
        },
        {
         "name": "zinc_usdton_std21",
         "rawType": "float64",
         "type": "float"
        },
        {
         "name": "zinc_usdton_max21",
         "rawType": "float64",
         "type": "float"
        },
        {
         "name": "zinc_usdton_min21",
         "rawType": "float64",
         "type": "float"
        },
        {
         "name": "tin_usdton_ma5",
         "rawType": "float64",
         "type": "float"
        },
        {
         "name": "tin_usdton_std5",
         "rawType": "float64",
         "type": "float"
        },
        {
         "name": "tin_usdton_max5",
         "rawType": "float64",
         "type": "float"
        },
        {
         "name": "tin_usdton_min5",
         "rawType": "float64",
         "type": "float"
        },
        {
         "name": "tin_usdton_ma10",
         "rawType": "float64",
         "type": "float"
        },
        {
         "name": "tin_usdton_std10",
         "rawType": "float64",
         "type": "float"
        },
        {
         "name": "tin_usdton_max10",
         "rawType": "float64",
         "type": "float"
        },
        {
         "name": "tin_usdton_min10",
         "rawType": "float64",
         "type": "float"
        },
        {
         "name": "tin_usdton_ma21",
         "rawType": "float64",
         "type": "float"
        },
        {
         "name": "tin_usdton_std21",
         "rawType": "float64",
         "type": "float"
        },
        {
         "name": "tin_usdton_max21",
         "rawType": "float64",
         "type": "float"
        },
        {
         "name": "tin_usdton_min21",
         "rawType": "float64",
         "type": "float"
        },
        {
         "name": "lead_usdton_ma5",
         "rawType": "float64",
         "type": "float"
        },
        {
         "name": "lead_usdton_std5",
         "rawType": "float64",
         "type": "float"
        },
        {
         "name": "lead_usdton_max5",
         "rawType": "float64",
         "type": "float"
        },
        {
         "name": "lead_usdton_min5",
         "rawType": "float64",
         "type": "float"
        },
        {
         "name": "lead_usdton_ma10",
         "rawType": "float64",
         "type": "float"
        },
        {
         "name": "lead_usdton_std10",
         "rawType": "float64",
         "type": "float"
        },
        {
         "name": "lead_usdton_max10",
         "rawType": "float64",
         "type": "float"
        },
        {
         "name": "lead_usdton_min10",
         "rawType": "float64",
         "type": "float"
        },
        {
         "name": "lead_usdton_ma21",
         "rawType": "float64",
         "type": "float"
        },
        {
         "name": "lead_usdton_std21",
         "rawType": "float64",
         "type": "float"
        },
        {
         "name": "lead_usdton_max21",
         "rawType": "float64",
         "type": "float"
        },
        {
         "name": "lead_usdton_min21",
         "rawType": "float64",
         "type": "float"
        },
        {
         "name": "oil_ma5",
         "rawType": "float64",
         "type": "float"
        },
        {
         "name": "oil_std5",
         "rawType": "float64",
         "type": "float"
        },
        {
         "name": "oil_max5",
         "rawType": "float64",
         "type": "float"
        },
        {
         "name": "oil_min5",
         "rawType": "float64",
         "type": "float"
        },
        {
         "name": "oil_ma10",
         "rawType": "float64",
         "type": "float"
        },
        {
         "name": "oil_std10",
         "rawType": "float64",
         "type": "float"
        },
        {
         "name": "oil_max10",
         "rawType": "float64",
         "type": "float"
        },
        {
         "name": "oil_min10",
         "rawType": "float64",
         "type": "float"
        },
        {
         "name": "oil_ma21",
         "rawType": "float64",
         "type": "float"
        },
        {
         "name": "oil_std21",
         "rawType": "float64",
         "type": "float"
        },
        {
         "name": "oil_max21",
         "rawType": "float64",
         "type": "float"
        },
        {
         "name": "oil_min21",
         "rawType": "float64",
         "type": "float"
        },
        {
         "name": "gas_ma5",
         "rawType": "float64",
         "type": "float"
        },
        {
         "name": "gas_std5",
         "rawType": "float64",
         "type": "float"
        },
        {
         "name": "gas_max5",
         "rawType": "float64",
         "type": "float"
        },
        {
         "name": "gas_min5",
         "rawType": "float64",
         "type": "float"
        },
        {
         "name": "gas_ma10",
         "rawType": "float64",
         "type": "float"
        },
        {
         "name": "gas_std10",
         "rawType": "float64",
         "type": "float"
        },
        {
         "name": "gas_max10",
         "rawType": "float64",
         "type": "float"
        },
        {
         "name": "gas_min10",
         "rawType": "float64",
         "type": "float"
        },
        {
         "name": "gas_ma21",
         "rawType": "float64",
         "type": "float"
        },
        {
         "name": "gas_std21",
         "rawType": "float64",
         "type": "float"
        },
        {
         "name": "gas_max21",
         "rawType": "float64",
         "type": "float"
        },
        {
         "name": "gas_min21",
         "rawType": "float64",
         "type": "float"
        },
        {
         "name": "steel_ma5",
         "rawType": "float64",
         "type": "float"
        },
        {
         "name": "steel_std5",
         "rawType": "float64",
         "type": "float"
        },
        {
         "name": "steel_max5",
         "rawType": "float64",
         "type": "float"
        },
        {
         "name": "steel_min5",
         "rawType": "float64",
         "type": "float"
        },
        {
         "name": "steel_ma10",
         "rawType": "float64",
         "type": "float"
        },
        {
         "name": "steel_std10",
         "rawType": "float64",
         "type": "float"
        },
        {
         "name": "steel_max10",
         "rawType": "float64",
         "type": "float"
        },
        {
         "name": "steel_min10",
         "rawType": "float64",
         "type": "float"
        },
        {
         "name": "steel_ma21",
         "rawType": "float64",
         "type": "float"
        },
        {
         "name": "steel_std21",
         "rawType": "float64",
         "type": "float"
        },
        {
         "name": "steel_max21",
         "rawType": "float64",
         "type": "float"
        },
        {
         "name": "steel_min21",
         "rawType": "float64",
         "type": "float"
        },
        {
         "name": "dxy_ma5",
         "rawType": "float64",
         "type": "float"
        },
        {
         "name": "dxy_std5",
         "rawType": "float64",
         "type": "float"
        },
        {
         "name": "dxy_max5",
         "rawType": "float64",
         "type": "float"
        },
        {
         "name": "dxy_min5",
         "rawType": "float64",
         "type": "float"
        },
        {
         "name": "dxy_ma10",
         "rawType": "float64",
         "type": "float"
        },
        {
         "name": "dxy_std10",
         "rawType": "float64",
         "type": "float"
        },
        {
         "name": "dxy_max10",
         "rawType": "float64",
         "type": "float"
        },
        {
         "name": "dxy_min10",
         "rawType": "float64",
         "type": "float"
        },
        {
         "name": "dxy_ma21",
         "rawType": "float64",
         "type": "float"
        },
        {
         "name": "dxy_std21",
         "rawType": "float64",
         "type": "float"
        },
        {
         "name": "dxy_max21",
         "rawType": "float64",
         "type": "float"
        },
        {
         "name": "dxy_min21",
         "rawType": "float64",
         "type": "float"
        },
        {
         "name": "usdcny_ma5",
         "rawType": "float64",
         "type": "float"
        },
        {
         "name": "usdcny_std5",
         "rawType": "float64",
         "type": "float"
        },
        {
         "name": "usdcny_max5",
         "rawType": "float64",
         "type": "float"
        },
        {
         "name": "usdcny_min5",
         "rawType": "float64",
         "type": "float"
        },
        {
         "name": "usdcny_ma10",
         "rawType": "float64",
         "type": "float"
        },
        {
         "name": "usdcny_std10",
         "rawType": "float64",
         "type": "float"
        },
        {
         "name": "usdcny_max10",
         "rawType": "float64",
         "type": "float"
        },
        {
         "name": "usdcny_min10",
         "rawType": "float64",
         "type": "float"
        },
        {
         "name": "usdcny_ma21",
         "rawType": "float64",
         "type": "float"
        },
        {
         "name": "usdcny_std21",
         "rawType": "float64",
         "type": "float"
        },
        {
         "name": "usdcny_max21",
         "rawType": "float64",
         "type": "float"
        },
        {
         "name": "usdcny_min21",
         "rawType": "float64",
         "type": "float"
        },
        {
         "name": "eurusd_ma5",
         "rawType": "float64",
         "type": "float"
        },
        {
         "name": "eurusd_std5",
         "rawType": "float64",
         "type": "float"
        },
        {
         "name": "eurusd_max5",
         "rawType": "float64",
         "type": "float"
        },
        {
         "name": "eurusd_min5",
         "rawType": "float64",
         "type": "float"
        },
        {
         "name": "eurusd_ma10",
         "rawType": "float64",
         "type": "float"
        },
        {
         "name": "eurusd_std10",
         "rawType": "float64",
         "type": "float"
        },
        {
         "name": "eurusd_max10",
         "rawType": "float64",
         "type": "float"
        },
        {
         "name": "eurusd_min10",
         "rawType": "float64",
         "type": "float"
        },
        {
         "name": "eurusd_ma21",
         "rawType": "float64",
         "type": "float"
        },
        {
         "name": "eurusd_std21",
         "rawType": "float64",
         "type": "float"
        },
        {
         "name": "eurusd_max21",
         "rawType": "float64",
         "type": "float"
        },
        {
         "name": "eurusd_min21",
         "rawType": "float64",
         "type": "float"
        },
        {
         "name": "brlusd_ma5",
         "rawType": "float64",
         "type": "float"
        },
        {
         "name": "brlusd_std5",
         "rawType": "float64",
         "type": "float"
        },
        {
         "name": "brlusd_max5",
         "rawType": "float64",
         "type": "float"
        },
        {
         "name": "brlusd_min5",
         "rawType": "float64",
         "type": "float"
        },
        {
         "name": "brlusd_ma10",
         "rawType": "float64",
         "type": "float"
        },
        {
         "name": "brlusd_std10",
         "rawType": "float64",
         "type": "float"
        },
        {
         "name": "brlusd_max10",
         "rawType": "float64",
         "type": "float"
        },
        {
         "name": "brlusd_min10",
         "rawType": "float64",
         "type": "float"
        },
        {
         "name": "brlusd_ma21",
         "rawType": "float64",
         "type": "float"
        },
        {
         "name": "brlusd_std21",
         "rawType": "float64",
         "type": "float"
        },
        {
         "name": "brlusd_max21",
         "rawType": "float64",
         "type": "float"
        },
        {
         "name": "brlusd_min21",
         "rawType": "float64",
         "type": "float"
        },
        {
         "name": "msci_em_ma5",
         "rawType": "float64",
         "type": "float"
        },
        {
         "name": "msci_em_std5",
         "rawType": "float64",
         "type": "float"
        },
        {
         "name": "msci_em_max5",
         "rawType": "float64",
         "type": "float"
        },
        {
         "name": "msci_em_min5",
         "rawType": "float64",
         "type": "float"
        },
        {
         "name": "msci_em_ma10",
         "rawType": "float64",
         "type": "float"
        },
        {
         "name": "msci_em_std10",
         "rawType": "float64",
         "type": "float"
        },
        {
         "name": "msci_em_max10",
         "rawType": "float64",
         "type": "float"
        },
        {
         "name": "msci_em_min10",
         "rawType": "float64",
         "type": "float"
        },
        {
         "name": "msci_em_ma21",
         "rawType": "float64",
         "type": "float"
        },
        {
         "name": "msci_em_std21",
         "rawType": "float64",
         "type": "float"
        },
        {
         "name": "msci_em_max21",
         "rawType": "float64",
         "type": "float"
        },
        {
         "name": "msci_em_min21",
         "rawType": "float64",
         "type": "float"
        },
        {
         "name": "xlb_ma5",
         "rawType": "float64",
         "type": "float"
        },
        {
         "name": "xlb_std5",
         "rawType": "float64",
         "type": "float"
        },
        {
         "name": "xlb_max5",
         "rawType": "float64",
         "type": "float"
        },
        {
         "name": "xlb_min5",
         "rawType": "float64",
         "type": "float"
        },
        {
         "name": "xlb_ma10",
         "rawType": "float64",
         "type": "float"
        },
        {
         "name": "xlb_std10",
         "rawType": "float64",
         "type": "float"
        },
        {
         "name": "xlb_max10",
         "rawType": "float64",
         "type": "float"
        },
        {
         "name": "xlb_min10",
         "rawType": "float64",
         "type": "float"
        },
        {
         "name": "xlb_ma21",
         "rawType": "float64",
         "type": "float"
        },
        {
         "name": "xlb_std21",
         "rawType": "float64",
         "type": "float"
        },
        {
         "name": "xlb_max21",
         "rawType": "float64",
         "type": "float"
        },
        {
         "name": "xlb_min21",
         "rawType": "float64",
         "type": "float"
        },
        {
         "name": "pick_ma5",
         "rawType": "float64",
         "type": "float"
        },
        {
         "name": "pick_std5",
         "rawType": "float64",
         "type": "float"
        },
        {
         "name": "pick_max5",
         "rawType": "float64",
         "type": "float"
        },
        {
         "name": "pick_min5",
         "rawType": "float64",
         "type": "float"
        },
        {
         "name": "pick_ma10",
         "rawType": "float64",
         "type": "float"
        },
        {
         "name": "pick_std10",
         "rawType": "float64",
         "type": "float"
        },
        {
         "name": "pick_max10",
         "rawType": "float64",
         "type": "float"
        },
        {
         "name": "pick_min10",
         "rawType": "float64",
         "type": "float"
        },
        {
         "name": "pick_ma21",
         "rawType": "float64",
         "type": "float"
        },
        {
         "name": "pick_std21",
         "rawType": "float64",
         "type": "float"
        },
        {
         "name": "pick_max21",
         "rawType": "float64",
         "type": "float"
        },
        {
         "name": "pick_min21",
         "rawType": "float64",
         "type": "float"
        },
        {
         "name": "fxi_ma5",
         "rawType": "float64",
         "type": "float"
        },
        {
         "name": "fxi_std5",
         "rawType": "float64",
         "type": "float"
        },
        {
         "name": "fxi_max5",
         "rawType": "float64",
         "type": "float"
        },
        {
         "name": "fxi_min5",
         "rawType": "float64",
         "type": "float"
        },
        {
         "name": "fxi_ma10",
         "rawType": "float64",
         "type": "float"
        },
        {
         "name": "fxi_std10",
         "rawType": "float64",
         "type": "float"
        },
        {
         "name": "fxi_max10",
         "rawType": "float64",
         "type": "float"
        },
        {
         "name": "fxi_min10",
         "rawType": "float64",
         "type": "float"
        },
        {
         "name": "fxi_ma21",
         "rawType": "float64",
         "type": "float"
        },
        {
         "name": "fxi_std21",
         "rawType": "float64",
         "type": "float"
        },
        {
         "name": "fxi_max21",
         "rawType": "float64",
         "type": "float"
        },
        {
         "name": "fxi_min21",
         "rawType": "float64",
         "type": "float"
        },
        {
         "name": "alcoa_ma5",
         "rawType": "float64",
         "type": "float"
        },
        {
         "name": "alcoa_std5",
         "rawType": "float64",
         "type": "float"
        },
        {
         "name": "alcoa_max5",
         "rawType": "float64",
         "type": "float"
        },
        {
         "name": "alcoa_min5",
         "rawType": "float64",
         "type": "float"
        },
        {
         "name": "alcoa_ma10",
         "rawType": "float64",
         "type": "float"
        },
        {
         "name": "alcoa_std10",
         "rawType": "float64",
         "type": "float"
        },
        {
         "name": "alcoa_max10",
         "rawType": "float64",
         "type": "float"
        },
        {
         "name": "alcoa_min10",
         "rawType": "float64",
         "type": "float"
        },
        {
         "name": "alcoa_ma21",
         "rawType": "float64",
         "type": "float"
        },
        {
         "name": "alcoa_std21",
         "rawType": "float64",
         "type": "float"
        },
        {
         "name": "alcoa_max21",
         "rawType": "float64",
         "type": "float"
        },
        {
         "name": "alcoa_min21",
         "rawType": "float64",
         "type": "float"
        },
        {
         "name": "century_aluminum_ma5",
         "rawType": "float64",
         "type": "float"
        },
        {
         "name": "century_aluminum_std5",
         "rawType": "float64",
         "type": "float"
        },
        {
         "name": "century_aluminum_max5",
         "rawType": "float64",
         "type": "float"
        },
        {
         "name": "century_aluminum_min5",
         "rawType": "float64",
         "type": "float"
        },
        {
         "name": "century_aluminum_ma10",
         "rawType": "float64",
         "type": "float"
        },
        {
         "name": "century_aluminum_std10",
         "rawType": "float64",
         "type": "float"
        },
        {
         "name": "century_aluminum_max10",
         "rawType": "float64",
         "type": "float"
        },
        {
         "name": "century_aluminum_min10",
         "rawType": "float64",
         "type": "float"
        },
        {
         "name": "century_aluminum_ma21",
         "rawType": "float64",
         "type": "float"
        },
        {
         "name": "century_aluminum_std21",
         "rawType": "float64",
         "type": "float"
        },
        {
         "name": "century_aluminum_max21",
         "rawType": "float64",
         "type": "float"
        },
        {
         "name": "century_aluminum_min21",
         "rawType": "float64",
         "type": "float"
        },
        {
         "name": "hindalco_ma5",
         "rawType": "float64",
         "type": "float"
        },
        {
         "name": "hindalco_std5",
         "rawType": "float64",
         "type": "float"
        },
        {
         "name": "hindalco_max5",
         "rawType": "float64",
         "type": "float"
        },
        {
         "name": "hindalco_min5",
         "rawType": "float64",
         "type": "float"
        },
        {
         "name": "hindalco_ma10",
         "rawType": "float64",
         "type": "float"
        },
        {
         "name": "hindalco_std10",
         "rawType": "float64",
         "type": "float"
        },
        {
         "name": "hindalco_max10",
         "rawType": "float64",
         "type": "float"
        },
        {
         "name": "hindalco_min10",
         "rawType": "float64",
         "type": "float"
        },
        {
         "name": "hindalco_ma21",
         "rawType": "float64",
         "type": "float"
        },
        {
         "name": "hindalco_std21",
         "rawType": "float64",
         "type": "float"
        },
        {
         "name": "hindalco_max21",
         "rawType": "float64",
         "type": "float"
        },
        {
         "name": "hindalco_min21",
         "rawType": "float64",
         "type": "float"
        },
        {
         "name": "aluminum_usdton_lag1",
         "rawType": "float64",
         "type": "float"
        },
        {
         "name": "aluminum_usdton_lag2",
         "rawType": "float64",
         "type": "float"
        },
        {
         "name": "aluminum_usdton_lag3",
         "rawType": "float64",
         "type": "float"
        },
        {
         "name": "aluminum_usdton_lag5",
         "rawType": "float64",
         "type": "float"
        },
        {
         "name": "aluminum_usdton_lag10",
         "rawType": "float64",
         "type": "float"
        },
        {
         "name": "copper_usdton_lag1",
         "rawType": "float64",
         "type": "float"
        },
        {
         "name": "copper_usdton_lag2",
         "rawType": "float64",
         "type": "float"
        },
        {
         "name": "copper_usdton_lag3",
         "rawType": "float64",
         "type": "float"
        },
        {
         "name": "copper_usdton_lag5",
         "rawType": "float64",
         "type": "float"
        },
        {
         "name": "copper_usdton_lag10",
         "rawType": "float64",
         "type": "float"
        },
        {
         "name": "zinc_usdton_lag1",
         "rawType": "float64",
         "type": "float"
        },
        {
         "name": "zinc_usdton_lag2",
         "rawType": "float64",
         "type": "float"
        },
        {
         "name": "zinc_usdton_lag3",
         "rawType": "float64",
         "type": "float"
        },
        {
         "name": "zinc_usdton_lag5",
         "rawType": "float64",
         "type": "float"
        },
        {
         "name": "zinc_usdton_lag10",
         "rawType": "float64",
         "type": "float"
        },
        {
         "name": "tin_usdton_lag1",
         "rawType": "float64",
         "type": "float"
        },
        {
         "name": "tin_usdton_lag2",
         "rawType": "float64",
         "type": "float"
        },
        {
         "name": "tin_usdton_lag3",
         "rawType": "float64",
         "type": "float"
        },
        {
         "name": "tin_usdton_lag5",
         "rawType": "float64",
         "type": "float"
        },
        {
         "name": "tin_usdton_lag10",
         "rawType": "float64",
         "type": "float"
        },
        {
         "name": "lead_usdton_lag1",
         "rawType": "float64",
         "type": "float"
        },
        {
         "name": "lead_usdton_lag2",
         "rawType": "float64",
         "type": "float"
        },
        {
         "name": "lead_usdton_lag3",
         "rawType": "float64",
         "type": "float"
        },
        {
         "name": "lead_usdton_lag5",
         "rawType": "float64",
         "type": "float"
        },
        {
         "name": "lead_usdton_lag10",
         "rawType": "float64",
         "type": "float"
        },
        {
         "name": "oil_lag1",
         "rawType": "float64",
         "type": "float"
        },
        {
         "name": "oil_lag2",
         "rawType": "float64",
         "type": "float"
        },
        {
         "name": "oil_lag3",
         "rawType": "float64",
         "type": "float"
        },
        {
         "name": "oil_lag5",
         "rawType": "float64",
         "type": "float"
        },
        {
         "name": "oil_lag10",
         "rawType": "float64",
         "type": "float"
        },
        {
         "name": "gas_lag1",
         "rawType": "float64",
         "type": "float"
        },
        {
         "name": "gas_lag2",
         "rawType": "float64",
         "type": "float"
        },
        {
         "name": "gas_lag3",
         "rawType": "float64",
         "type": "float"
        },
        {
         "name": "gas_lag5",
         "rawType": "float64",
         "type": "float"
        },
        {
         "name": "gas_lag10",
         "rawType": "float64",
         "type": "float"
        },
        {
         "name": "steel_lag1",
         "rawType": "float64",
         "type": "float"
        },
        {
         "name": "steel_lag2",
         "rawType": "float64",
         "type": "float"
        },
        {
         "name": "steel_lag3",
         "rawType": "float64",
         "type": "float"
        },
        {
         "name": "steel_lag5",
         "rawType": "float64",
         "type": "float"
        },
        {
         "name": "steel_lag10",
         "rawType": "float64",
         "type": "float"
        },
        {
         "name": "dxy_lag1",
         "rawType": "float64",
         "type": "float"
        },
        {
         "name": "dxy_lag2",
         "rawType": "float64",
         "type": "float"
        },
        {
         "name": "dxy_lag3",
         "rawType": "float64",
         "type": "float"
        },
        {
         "name": "dxy_lag5",
         "rawType": "float64",
         "type": "float"
        },
        {
         "name": "dxy_lag10",
         "rawType": "float64",
         "type": "float"
        },
        {
         "name": "usdcny_lag1",
         "rawType": "float64",
         "type": "float"
        },
        {
         "name": "usdcny_lag2",
         "rawType": "float64",
         "type": "float"
        },
        {
         "name": "usdcny_lag3",
         "rawType": "float64",
         "type": "float"
        },
        {
         "name": "usdcny_lag5",
         "rawType": "float64",
         "type": "float"
        },
        {
         "name": "usdcny_lag10",
         "rawType": "float64",
         "type": "float"
        },
        {
         "name": "eurusd_lag1",
         "rawType": "float64",
         "type": "float"
        },
        {
         "name": "eurusd_lag2",
         "rawType": "float64",
         "type": "float"
        },
        {
         "name": "eurusd_lag3",
         "rawType": "float64",
         "type": "float"
        },
        {
         "name": "eurusd_lag5",
         "rawType": "float64",
         "type": "float"
        },
        {
         "name": "eurusd_lag10",
         "rawType": "float64",
         "type": "float"
        },
        {
         "name": "brlusd_lag1",
         "rawType": "float64",
         "type": "float"
        },
        {
         "name": "brlusd_lag2",
         "rawType": "float64",
         "type": "float"
        },
        {
         "name": "brlusd_lag3",
         "rawType": "float64",
         "type": "float"
        },
        {
         "name": "brlusd_lag5",
         "rawType": "float64",
         "type": "float"
        },
        {
         "name": "brlusd_lag10",
         "rawType": "float64",
         "type": "float"
        },
        {
         "name": "msci_em_lag1",
         "rawType": "float64",
         "type": "float"
        },
        {
         "name": "msci_em_lag2",
         "rawType": "float64",
         "type": "float"
        },
        {
         "name": "msci_em_lag3",
         "rawType": "float64",
         "type": "float"
        },
        {
         "name": "msci_em_lag5",
         "rawType": "float64",
         "type": "float"
        },
        {
         "name": "msci_em_lag10",
         "rawType": "float64",
         "type": "float"
        },
        {
         "name": "xlb_lag1",
         "rawType": "float64",
         "type": "float"
        },
        {
         "name": "xlb_lag2",
         "rawType": "float64",
         "type": "float"
        },
        {
         "name": "xlb_lag3",
         "rawType": "float64",
         "type": "float"
        },
        {
         "name": "xlb_lag5",
         "rawType": "float64",
         "type": "float"
        },
        {
         "name": "xlb_lag10",
         "rawType": "float64",
         "type": "float"
        },
        {
         "name": "pick_lag1",
         "rawType": "float64",
         "type": "float"
        },
        {
         "name": "pick_lag2",
         "rawType": "float64",
         "type": "float"
        },
        {
         "name": "pick_lag3",
         "rawType": "float64",
         "type": "float"
        },
        {
         "name": "pick_lag5",
         "rawType": "float64",
         "type": "float"
        },
        {
         "name": "pick_lag10",
         "rawType": "float64",
         "type": "float"
        },
        {
         "name": "fxi_lag1",
         "rawType": "float64",
         "type": "float"
        },
        {
         "name": "fxi_lag2",
         "rawType": "float64",
         "type": "float"
        },
        {
         "name": "fxi_lag3",
         "rawType": "float64",
         "type": "float"
        },
        {
         "name": "fxi_lag5",
         "rawType": "float64",
         "type": "float"
        },
        {
         "name": "fxi_lag10",
         "rawType": "float64",
         "type": "float"
        },
        {
         "name": "alcoa_lag1",
         "rawType": "float64",
         "type": "float"
        },
        {
         "name": "alcoa_lag2",
         "rawType": "float64",
         "type": "float"
        },
        {
         "name": "alcoa_lag3",
         "rawType": "float64",
         "type": "float"
        },
        {
         "name": "alcoa_lag5",
         "rawType": "float64",
         "type": "float"
        },
        {
         "name": "alcoa_lag10",
         "rawType": "float64",
         "type": "float"
        },
        {
         "name": "century_aluminum_lag1",
         "rawType": "float64",
         "type": "float"
        },
        {
         "name": "century_aluminum_lag2",
         "rawType": "float64",
         "type": "float"
        },
        {
         "name": "century_aluminum_lag3",
         "rawType": "float64",
         "type": "float"
        },
        {
         "name": "century_aluminum_lag5",
         "rawType": "float64",
         "type": "float"
        },
        {
         "name": "century_aluminum_lag10",
         "rawType": "float64",
         "type": "float"
        },
        {
         "name": "hindalco_lag1",
         "rawType": "float64",
         "type": "float"
        },
        {
         "name": "hindalco_lag2",
         "rawType": "float64",
         "type": "float"
        },
        {
         "name": "hindalco_lag3",
         "rawType": "float64",
         "type": "float"
        },
        {
         "name": "hindalco_lag5",
         "rawType": "float64",
         "type": "float"
        },
        {
         "name": "hindalco_lag10",
         "rawType": "float64",
         "type": "float"
        },
        {
         "name": "alum_zscore_ma5",
         "rawType": "float64",
         "type": "float"
        },
        {
         "name": "alum_above_ma5",
         "rawType": "int64",
         "type": "integer"
        },
        {
         "name": "alum_zscore_ma10",
         "rawType": "float64",
         "type": "float"
        },
        {
         "name": "alum_above_ma10",
         "rawType": "int64",
         "type": "integer"
        },
        {
         "name": "alum_zscore_ma21",
         "rawType": "float64",
         "type": "float"
        },
        {
         "name": "alum_above_ma21",
         "rawType": "int64",
         "type": "integer"
        },
        {
         "name": "copper_minus_aluminum",
         "rawType": "float64",
         "type": "float"
        },
        {
         "name": "zinc_minus_aluminum",
         "rawType": "float64",
         "type": "float"
        },
        {
         "name": "oil_minus_gas",
         "rawType": "float64",
         "type": "float"
        },
        {
         "name": "copper_div_aluminum",
         "rawType": "float64",
         "type": "float"
        },
        {
         "name": "zinc_div_aluminum",
         "rawType": "float64",
         "type": "float"
        },
        {
         "name": "oil_div_gas",
         "rawType": "float64",
         "type": "float"
        },
        {
         "name": "tin_minus_zinc",
         "rawType": "float64",
         "type": "float"
        },
        {
         "name": "aluminum_minus_lead",
         "rawType": "float64",
         "type": "float"
        },
        {
         "name": "alum_pct_minus_oil",
         "rawType": "float64",
         "type": "float"
        },
        {
         "name": "tin_div_copper",
         "rawType": "float64",
         "type": "float"
        },
        {
         "name": "lead_div_aluminum",
         "rawType": "float64",
         "type": "float"
        },
        {
         "name": "alum_ret1_minus_copper_ret1",
         "rawType": "float64",
         "type": "float"
        },
        {
         "name": "zinc_ret1_minus_lead_ret1",
         "rawType": "float64",
         "type": "float"
        },
        {
         "name": "oil_ret1_minus_steel_ret1",
         "rawType": "float64",
         "type": "float"
        },
        {
         "name": "pick_ret1_minus_msci_em_ret1",
         "rawType": "float64",
         "type": "float"
        },
        {
         "name": "alum_ma5",
         "rawType": "float64",
         "type": "float"
        },
        {
         "name": "alum_ma21",
         "rawType": "float64",
         "type": "float"
        },
        {
         "name": "alum_cross_ma5_ma21",
         "rawType": "int64",
         "type": "integer"
        },
        {
         "name": "alum_above_ma10_roll10",
         "rawType": "float64",
         "type": "float"
        },
        {
         "name": "alum_oversold",
         "rawType": "int64",
         "type": "integer"
        },
        {
         "name": "alum_overbought",
         "rawType": "int64",
         "type": "integer"
        },
        {
         "name": "month",
         "rawType": "int64",
         "type": "integer"
        },
        {
         "name": "quarter",
         "rawType": "int64",
         "type": "integer"
        },
        {
         "name": "weekday",
         "rawType": "int64",
         "type": "integer"
        },
        {
         "name": "end_of_month",
         "rawType": "int64",
         "type": "integer"
        },
        {
         "name": "aluminum_ret1",
         "rawType": "float64",
         "type": "float"
        },
        {
         "name": "copper_ret1",
         "rawType": "float64",
         "type": "float"
        },
        {
         "name": "zinc_ret1",
         "rawType": "float64",
         "type": "float"
        },
        {
         "name": "tin_ret1",
         "rawType": "float64",
         "type": "float"
        },
        {
         "name": "lead_ret1",
         "rawType": "float64",
         "type": "float"
        },
        {
         "name": "aluminum_logret1",
         "rawType": "float64",
         "type": "float"
        },
        {
         "name": "copper_logret1",
         "rawType": "float64",
         "type": "float"
        },
        {
         "name": "zinc_logret1",
         "rawType": "float64",
         "type": "float"
        },
        {
         "name": "tin_logret1",
         "rawType": "float64",
         "type": "float"
        },
        {
         "name": "lead_logret1",
         "rawType": "float64",
         "type": "float"
        },
        {
         "name": "aluminum_ma5",
         "rawType": "float64",
         "type": "float"
        },
        {
         "name": "aluminum_ma10",
         "rawType": "float64",
         "type": "float"
        },
        {
         "name": "aluminum_ma21",
         "rawType": "float64",
         "type": "float"
        },
        {
         "name": "copper_ma5",
         "rawType": "float64",
         "type": "float"
        },
        {
         "name": "copper_ma10",
         "rawType": "float64",
         "type": "float"
        },
        {
         "name": "copper_ma21",
         "rawType": "float64",
         "type": "float"
        },
        {
         "name": "zinc_ma5",
         "rawType": "float64",
         "type": "float"
        },
        {
         "name": "zinc_ma10",
         "rawType": "float64",
         "type": "float"
        },
        {
         "name": "zinc_ma21",
         "rawType": "float64",
         "type": "float"
        },
        {
         "name": "tin_ma5",
         "rawType": "float64",
         "type": "float"
        },
        {
         "name": "tin_ma10",
         "rawType": "float64",
         "type": "float"
        },
        {
         "name": "tin_ma21",
         "rawType": "float64",
         "type": "float"
        },
        {
         "name": "lead_ma5",
         "rawType": "float64",
         "type": "float"
        },
        {
         "name": "lead_ma10",
         "rawType": "float64",
         "type": "float"
        },
        {
         "name": "lead_ma21",
         "rawType": "float64",
         "type": "float"
        },
        {
         "name": "aluminum_std5",
         "rawType": "float64",
         "type": "float"
        },
        {
         "name": "aluminum_std10",
         "rawType": "float64",
         "type": "float"
        },
        {
         "name": "aluminum_std21",
         "rawType": "float64",
         "type": "float"
        },
        {
         "name": "copper_std5",
         "rawType": "float64",
         "type": "float"
        },
        {
         "name": "copper_std10",
         "rawType": "float64",
         "type": "float"
        },
        {
         "name": "copper_std21",
         "rawType": "float64",
         "type": "float"
        },
        {
         "name": "zinc_std5",
         "rawType": "float64",
         "type": "float"
        },
        {
         "name": "zinc_std10",
         "rawType": "float64",
         "type": "float"
        },
        {
         "name": "zinc_std21",
         "rawType": "float64",
         "type": "float"
        },
        {
         "name": "tin_std5",
         "rawType": "float64",
         "type": "float"
        },
        {
         "name": "tin_std10",
         "rawType": "float64",
         "type": "float"
        },
        {
         "name": "tin_std21",
         "rawType": "float64",
         "type": "float"
        },
        {
         "name": "lead_std5",
         "rawType": "float64",
         "type": "float"
        },
        {
         "name": "lead_std10",
         "rawType": "float64",
         "type": "float"
        },
        {
         "name": "lead_std21",
         "rawType": "float64",
         "type": "float"
        },
        {
         "name": "aluminum_max5",
         "rawType": "float64",
         "type": "float"
        },
        {
         "name": "aluminum_max10",
         "rawType": "float64",
         "type": "float"
        },
        {
         "name": "aluminum_max21",
         "rawType": "float64",
         "type": "float"
        },
        {
         "name": "copper_max5",
         "rawType": "float64",
         "type": "float"
        },
        {
         "name": "copper_max10",
         "rawType": "float64",
         "type": "float"
        },
        {
         "name": "copper_max21",
         "rawType": "float64",
         "type": "float"
        },
        {
         "name": "zinc_max5",
         "rawType": "float64",
         "type": "float"
        },
        {
         "name": "zinc_max10",
         "rawType": "float64",
         "type": "float"
        },
        {
         "name": "zinc_max21",
         "rawType": "float64",
         "type": "float"
        },
        {
         "name": "tin_max5",
         "rawType": "float64",
         "type": "float"
        },
        {
         "name": "tin_max10",
         "rawType": "float64",
         "type": "float"
        },
        {
         "name": "tin_max21",
         "rawType": "float64",
         "type": "float"
        },
        {
         "name": "lead_max5",
         "rawType": "float64",
         "type": "float"
        },
        {
         "name": "lead_max10",
         "rawType": "float64",
         "type": "float"
        },
        {
         "name": "lead_max21",
         "rawType": "float64",
         "type": "float"
        },
        {
         "name": "aluminum_min5",
         "rawType": "float64",
         "type": "float"
        },
        {
         "name": "aluminum_min10",
         "rawType": "float64",
         "type": "float"
        },
        {
         "name": "aluminum_min21",
         "rawType": "float64",
         "type": "float"
        },
        {
         "name": "copper_min5",
         "rawType": "float64",
         "type": "float"
        },
        {
         "name": "copper_min10",
         "rawType": "float64",
         "type": "float"
        },
        {
         "name": "copper_min21",
         "rawType": "float64",
         "type": "float"
        },
        {
         "name": "zinc_min5",
         "rawType": "float64",
         "type": "float"
        },
        {
         "name": "zinc_min10",
         "rawType": "float64",
         "type": "float"
        },
        {
         "name": "zinc_min21",
         "rawType": "float64",
         "type": "float"
        },
        {
         "name": "tin_min5",
         "rawType": "float64",
         "type": "float"
        },
        {
         "name": "tin_min10",
         "rawType": "float64",
         "type": "float"
        },
        {
         "name": "tin_min21",
         "rawType": "float64",
         "type": "float"
        },
        {
         "name": "lead_min5",
         "rawType": "float64",
         "type": "float"
        },
        {
         "name": "lead_min10",
         "rawType": "float64",
         "type": "float"
        },
        {
         "name": "lead_min21",
         "rawType": "float64",
         "type": "float"
        },
        {
         "name": "aluminum_lag1",
         "rawType": "float64",
         "type": "float"
        },
        {
         "name": "aluminum_lag3",
         "rawType": "float64",
         "type": "float"
        },
        {
         "name": "aluminum_lag5",
         "rawType": "float64",
         "type": "float"
        },
        {
         "name": "aluminum_lag10",
         "rawType": "float64",
         "type": "float"
        },
        {
         "name": "aluminum_lag21",
         "rawType": "float64",
         "type": "float"
        },
        {
         "name": "copper_lag1",
         "rawType": "float64",
         "type": "float"
        },
        {
         "name": "copper_lag3",
         "rawType": "float64",
         "type": "float"
        },
        {
         "name": "copper_lag5",
         "rawType": "float64",
         "type": "float"
        },
        {
         "name": "copper_lag10",
         "rawType": "float64",
         "type": "float"
        },
        {
         "name": "copper_lag21",
         "rawType": "float64",
         "type": "float"
        },
        {
         "name": "zinc_lag1",
         "rawType": "float64",
         "type": "float"
        },
        {
         "name": "zinc_lag3",
         "rawType": "float64",
         "type": "float"
        },
        {
         "name": "zinc_lag5",
         "rawType": "float64",
         "type": "float"
        },
        {
         "name": "zinc_lag10",
         "rawType": "float64",
         "type": "float"
        },
        {
         "name": "zinc_lag21",
         "rawType": "float64",
         "type": "float"
        },
        {
         "name": "tin_lag1",
         "rawType": "float64",
         "type": "float"
        },
        {
         "name": "tin_lag3",
         "rawType": "float64",
         "type": "float"
        },
        {
         "name": "tin_lag5",
         "rawType": "float64",
         "type": "float"
        },
        {
         "name": "tin_lag10",
         "rawType": "float64",
         "type": "float"
        },
        {
         "name": "tin_lag21",
         "rawType": "float64",
         "type": "float"
        },
        {
         "name": "lead_lag1",
         "rawType": "float64",
         "type": "float"
        },
        {
         "name": "lead_lag3",
         "rawType": "float64",
         "type": "float"
        },
        {
         "name": "lead_lag5",
         "rawType": "float64",
         "type": "float"
        },
        {
         "name": "lead_lag10",
         "rawType": "float64",
         "type": "float"
        },
        {
         "name": "lead_lag21",
         "rawType": "float64",
         "type": "float"
        },
        {
         "name": "steel_lag21",
         "rawType": "float64",
         "type": "float"
        },
        {
         "name": "oil_lag21",
         "rawType": "float64",
         "type": "float"
        },
        {
         "name": "gas_lag21",
         "rawType": "float64",
         "type": "float"
        },
        {
         "name": "dxy_lag21",
         "rawType": "float64",
         "type": "float"
        },
        {
         "name": "usdcny_lag21",
         "rawType": "float64",
         "type": "float"
        },
        {
         "name": "eurusd_lag21",
         "rawType": "float64",
         "type": "float"
        },
        {
         "name": "brlusd_lag21",
         "rawType": "float64",
         "type": "float"
        },
        {
         "name": "msci_em_lag21",
         "rawType": "float64",
         "type": "float"
        },
        {
         "name": "xlb_lag21",
         "rawType": "float64",
         "type": "float"
        },
        {
         "name": "pick_lag21",
         "rawType": "float64",
         "type": "float"
        },
        {
         "name": "fxi_lag21",
         "rawType": "float64",
         "type": "float"
        },
        {
         "name": "alcoa_lag21",
         "rawType": "float64",
         "type": "float"
        },
        {
         "name": "century_aluminum_lag21",
         "rawType": "float64",
         "type": "float"
        },
        {
         "name": "hindalco_lag21",
         "rawType": "float64",
         "type": "float"
        },
        {
         "name": "aluminum_usdton_lag21",
         "rawType": "float64",
         "type": "float"
        },
        {
         "name": "copper_usdton_lag21",
         "rawType": "float64",
         "type": "float"
        },
        {
         "name": "zinc_usdton_lag21",
         "rawType": "float64",
         "type": "float"
        },
        {
         "name": "tin_usdton_lag21",
         "rawType": "float64",
         "type": "float"
        },
        {
         "name": "lead_usdton_lag21",
         "rawType": "float64",
         "type": "float"
        }
       ],
       "ref": "af29c7fe-6016-4a69-b553-1fe8cbc0b5b9",
       "rows": [
        [
         "0",
         "2020-08-24 00:00:00",
         "14.481212615966797",
         "1741.0",
         "5.618599891662598",
         "45.130001068115234",
         "9.239999771118164",
         "93.3000030517578",
         "39.994388580322266",
         "1.1798018217086792",
         "39.66783142089844",
         "2.922499895095825",
         "185.59701538085932",
         "2.513000011444092",
         "22.26150131225586",
         "13.015003204345703",
         "6.918499946594238",
         "57.03040313720703",
         "72.06521606445312",
         "139.515625",
         "3431.280029296875",
         "-0.0046296088971943",
         "1448.1212615966797",
         "38382.4342",
         "561.8599891662598",
         "4513.000106811523",
         "923.9999771118164",
         "1441.4170265197754",
         "-0.0046296088971943",
         "Na mesma",
         "1400.2333641052246",
         "-0.0330689830758057",
         "Cai",
         "1142.5982475280762",
         "-0.2109788884197017",
         "Cai muito",
         "2116.6321754455566",
         "0.4616401482233508",
         "Sobe muito",
         null,
         null,
         null,
         null,
         null,
         null,
         null,
         null,
         null,
         null,
         null,
         null,
         null,
         null,
         null,
         null,
         null,
         null,
         null,
         null,
         null,
         null,
         null,
         null,
         null,
         null,
         null,
         null,
         null,
         null,
         null,
         null,
         null,
         null,
         null,
         null,
         null,
         null,
         null,
         null,
         null,
         null,
         null,
         null,
         null,
         null,
         null,
         null,
         null,
         null,
         null,
         null,
         null,
         null,
         null,
         null,
         null,
         null,
         null,
         null,
         null,
         null,
         null,
         null,
         null,
         null,
         null,
         null,
         null,
         null,
         null,
         null,
         null,
         null,
         null,
         null,
         null,
         null,
         null,
         null,
         null,
         null,
         null,
         null,
         null,
         null,
         null,
         null,
         null,
         null,
         null,
         null,
         null,
         null,
         null,
         null,
         null,
         null,
         null,
         null,
         null,
         null,
         null,
         null,
         null,
         null,
         null,
         null,
         null,
         null,
         null,
         null,
         null,
         null,
         null,
         null,
         null,
         null,
         null,
         null,
         null,
         null,
         null,
         null,
         null,
         null,
         null,
         null,
         null,
         null,
         null,
         null,
         null,
         null,
         null,
         null,
         null,
         null,
         null,
         null,
         null,
         null,
         null,
         null,
         null,
         null,
         null,
         null,
         null,
         null,
         null,
         null,
         null,
         null,
         null,
         null,
         null,
         null,
         null,
         null,
         null,
         null,
         null,
         null,
         null,
         null,
         null,
         null,
         null,
         null,
         null,
         null,
         null,
         null,
         null,
         null,
         null,
         null,
         null,
         null,
         null,
         null,
         null,
         null,
         null,
         null,
         null,
         null,
         null,
         null,
         null,
         null,
         null,
         null,
         null,
         null,
         null,
         null,
         null,
         null,
         null,
         null,
         null,
         null,
         null,
         null,
         null,
         null,
         null,
         null,
         null,
         null,
         null,
         null,
         null,
         null,
         null,
         null,
         null,
         null,
         null,
         null,
         null,
         null,
         null,
         null,
         null,
         null,
         null,
         null,
         null,
         null,
         null,
         null,
         null,
         null,
         null,
         null,
         null,
         null,
         null,
         null,
         null,
         null,
         null,
         null,
         null,
         null,
         null,
         null,
         null,
         null,
         null,
         null,
         null,
         null,
         null,
         null,
         null,
         null,
         null,
         null,
         null,
         null,
         null,
         null,
         null,
         null,
         null,
         null,
         null,
         null,
         null,
         null,
         null,
         null,
         null,
         null,
         null,
         null,
         null,
         null,
         null,
         null,
         null,
         null,
         null,
         null,
         null,
         null,
         null,
         null,
         null,
         null,
         null,
         null,
         null,
         null,
         null,
         null,
         null,
         null,
         null,
         null,
         null,
         null,
         null,
         null,
         null,
         null,
         null,
         null,
         null,
         null,
         null,
         null,
         null,
         null,
         null,
         null,
         null,
         null,
         null,
         null,
         null,
         null,
         null,
         null,
         null,
         null,
         null,
         null,
         null,
         null,
         null,
         null,
         null,
         null,
         null,
         null,
         null,
         null,
         null,
         null,
         null,
         null,
         null,
         null,
         null,
         null,
         null,
         null,
         null,
         null,
         null,
         null,
         null,
         null,
         null,
         null,
         null,
         null,
         "0",
         null,
         "0",
         null,
         "0",
         "36934.31293840333",
         "-886.2612724304199",
         "38.81458675861359",
         "26.504986300442845",
         "0.3879923622879207",
         "33.89924294437801",
         "3951.140117645264",
         "524.1212844848633",
         "-39.99901818921946",
         "0.1175798304843188",
         "0.6380680966544376",
         null,
         null,
         null,
         null,
         null,
         null,
         "0",
         null,
         "0",
         "0",
         "8",
         "3",
         "0",
         "0",
         null,
         null,
         null,
         null,
         null,
         null,
         null,
         null,
         null,
         null,
         null,
         null,
         null,
         null,
         null,
         null,
         null,
         null,
         null,
         null,
         null,
         null,
         null,
         null,
         null,
         null,
         null,
         null,
         null,
         null,
         null,
         null,
         null,
         null,
         null,
         null,
         null,
         null,
         null,
         null,
         null,
         null,
         null,
         null,
         null,
         null,
         null,
         null,
         null,
         null,
         null,
         null,
         null,
         null,
         null,
         null,
         null,
         null,
         null,
         null,
         null,
         null,
         null,
         null,
         null,
         null,
         null,
         null,
         null,
         null,
         null,
         null,
         null,
         null,
         null,
         null,
         null,
         null,
         null,
         null,
         null,
         null,
         null,
         null,
         null,
         null,
         null,
         null,
         null,
         null,
         null,
         null,
         null,
         null,
         null,
         null,
         null,
         null,
         null,
         null,
         null,
         null,
         null,
         null,
         null,
         null,
         null,
         null,
         null,
         null,
         null,
         null,
         null,
         null
        ],
        [
         "1",
         "2020-08-25 00:00:00",
         "14.414170265197754",
         "1745.5",
         "5.610599994659424",
         "45.86000061035156",
         "9.31999969482422",
         "93.0199966430664",
         "40.396392822265625",
         "1.1794538497924805",
         "39.827857971191406",
         "2.930999994277954",
         "183.6766967773437",
         "2.489000082015991",
         "22.03816795349121",
         "13.015003204345703",
         "6.918900012969971",
         "56.804012298583984",
         "71.97260284423828",
         "139.3125",
         "3443.6201171875",
         "-0.0046296088971943",
         "1441.4170265197754",
         "38481.6421",
         "561.0599994659424",
         "4586.000061035156",
         "931.999969482422",
         "1443.3323860168457",
         "0.0013288031581636",
         "Na mesma",
         "1445.248031616211",
         "0.0026578048031563",
         "Na mesma",
         "1117.6965713500977",
         "-0.2245848697592282",
         "Cai muito",
         "2130.0403594970703",
         "0.4777405291513305",
         "Sobe muito",
         "-0.0046296088971943",
         "-0.0046403587276371",
         "0.0025847214244685",
         "0.0025813867769015",
         "-0.0014238239343301",
         "-0.0014248385348174",
         "0.0161754824941069",
         "0.0160460532323453",
         "0.0086580006155536",
         "0.0086207350704859",
         "0.010051516130469",
         "0.010001335622174",
         "-0.0002949409890677",
         "-0.0002949844927155",
         "-0.003001140402279",
         "-0.0030056528547332",
         "0.0040341643231007",
         "0.0040260489008507",
         "0.0029085028185604",
         "0.0029042813077741",
         "-0.0103467105846232",
         "-0.0104006099040353",
         "-0.0095503101149247",
         "-0.0095962067785743",
         "-0.010032268517384",
         "-0.0100829308467165",
         "0.0",
         "0.0",
         "5.782559497302664e-05",
         "5.7823923137759246e-05",
         "-0.0039696517325746",
         "-0.0039775517137269",
         "-0.0012851306812431",
         "-0.0012859571698502",
         "-0.0014559301153544",
         "-0.0014569910114569",
         "0.0035963511532906",
         "0.0035898997455401",
         null,
         null,
         null,
         null,
         null,
         null,
         null,
         null,
         null,
         null,
         null,
         null,
         null,
         null,
         null,
         null,
         null,
         null,
         null,
         null,
         null,
         null,
         null,
         null,
         null,
         null,
         null,
         null,
         null,
         null,
         null,
         null,
         null,
         null,
         null,
         null,
         null,
         null,
         null,
         null,
         null,
         null,
         null,
         null,
         null,
         null,
         null,
         null,
         null,
         null,
         null,
         null,
         null,
         null,
         null,
         null,
         null,
         null,
         null,
         null,
         null,
         null,
         null,
         null,
         null,
         null,
         null,
         null,
         null,
         null,
         null,
         null,
         null,
         null,
         null,
         null,
         null,
         null,
         null,
         null,
         null,
         null,
         null,
         null,
         null,
         null,
         null,
         null,
         null,
         null,
         null,
         null,
         null,
         null,
         null,
         null,
         null,
         null,
         null,
         null,
         null,
         null,
         null,
         null,
         null,
         null,
         null,
         null,
         null,
         null,
         null,
         null,
         null,
         null,
         null,
         null,
         null,
         null,
         null,
         null,
         null,
         null,
         null,
         null,
         null,
         null,
         null,
         null,
         null,
         null,
         null,
         null,
         null,
         null,
         null,
         null,
         null,
         null,
         null,
         null,
         null,
         null,
         null,
         null,
         null,
         null,
         null,
         null,
         null,
         null,
         null,
         null,
         null,
         null,
         null,
         null,
         null,
         null,
         null,
         null,
         null,
         null,
         null,
         null,
         null,
         null,
         null,
         null,
         null,
         null,
         null,
         null,
         null,
         null,
         null,
         null,
         null,
         null,
         null,
         null,
         null,
         null,
         null,
         null,
         null,
         null,
         null,
         null,
         null,
         null,
         null,
         null,
         null,
         null,
         null,
         null,
         null,
         null,
         null,
         null,
         null,
         null,
         null,
         null,
         null,
         null,
         null,
         null,
         null,
         null,
         null,
         null,
         null,
         null,
         null,
         null,
         null,
         null,
         null,
         null,
         null,
         null,
         null,
         null,
         null,
         null,
         null,
         null,
         "1448.1212615966797",
         null,
         null,
         null,
         null,
         "38382.4342",
         null,
         null,
         null,
         null,
         "561.8599891662598",
         null,
         null,
         null,
         null,
         "4513.000106811523",
         null,
         null,
         null,
         null,
         "923.9999771118164",
         null,
         null,
         null,
         null,
         "39.994388580322266",
         null,
         null,
         null,
         null,
         "1.1798018217086792",
         null,
         null,
         null,
         null,
         "93.3000030517578",
         null,
         null,
         null,
         null,
         "39.66783142089844",
         null,
         null,
         null,
         null,
         "2.922499895095825",
         null,
         null,
         null,
         null,
         "185.59701538085932",
         null,
         null,
         null,
         null,
         "2.513000011444092",
         null,
         null,
         null,
         null,
         "22.26150131225586",
         null,
         null,
         null,
         null,
         "13.015003204345703",
         null,
         null,
         null,
         null,
         "6.918499946594238",
         null,
         null,
         null,
         null,
         "57.03040313720703",
         null,
         null,
         null,
         null,
         "72.06521606445312",
         null,
         null,
         null,
         null,
         "139.515625",
         null,
         null,
         null,
         null,
         "3431.280029296875",
         null,
         null,
         null,
         null,
         null,
         "0",
         null,
         "0",
         null,
         "0",
         "37040.22507348022",
         "-880.357027053833",
         "39.216938972473145",
         "26.697091398255417",
         "0.3892419675522994",
         "34.25008348514288",
         "4024.940061569214",
         "509.4170570373534",
         "-40.40102243116282",
         "0.119173710132166",
         "0.6465859306051672",
         "-0.0072143303216628",
         "-0.0100818245498838",
         "0.0130526565327481",
         "0.010090094112357",
         null,
         null,
         "0",
         null,
         "0",
         "0",
         "8",
         "3",
         "1",
         "0",
         "-0.0046296088971943",
         "0.0025847214244687",
         "-0.0014238239343301",
         "0.0161754824941069",
         "0.0086580006155536",
         "-0.0046403587276371",
         "0.0025813867769017",
         "-0.0014248385348174",
         "0.0160460532323453",
         "0.0086207350704859",
         null,
         null,
         null,
         null,
         null,
         null,
         null,
         null,
         null,
         null,
         null,
         null,
         null,
         null,
         null,
         null,
         null,
         null,
         null,
         null,
         null,
         null,
         null,
         null,
         null,
         null,
         null,
         null,
         null,
         null,
         null,
         null,
         null,
         null,
         null,
         null,
         null,
         null,
         null,
         null,
         null,
         null,
         null,
         null,
         null,
         null,
         null,
         null,
         null,
         null,
         null,
         null,
         null,
         null,
         null,
         null,
         null,
         null,
         null,
         null,
         "14.481212615966797",
         null,
         null,
         null,
         null,
         "1741.0",
         null,
         null,
         null,
         null,
         "5.618599891662598",
         null,
         null,
         null,
         null,
         "45.130001068115234",
         null,
         null,
         null,
         null,
         "9.239999771118164",
         null,
         null,
         null,
         null,
         null,
         null,
         null,
         null,
         null,
         null,
         null,
         null,
         null,
         null,
         null,
         null,
         null,
         null,
         null,
         null,
         null,
         null,
         null
        ],
        [
         "2",
         "2020-08-26 00:00:00",
         "14.433323860168455",
         "1744.75",
         "5.507400035858154",
         "45.63999938964844",
         "9.31999969482422",
         "93.01000213623048",
         "40.50358963012695",
         "1.183501958847046",
         "39.75674057006836",
         "2.9595000743865967",
         "185.7890472412109",
         "2.4609999656677246",
         "22.15781211853028",
         "13.015003204345703",
         "6.911900043487549",
         "57.40166473388672",
         "72.00963592529297",
         "139.3125",
         "3478.72998046875",
         "0.0013288031581635",
         "1443.3323860168457",
         "38465.10745",
         "550.7400035858154",
         "4563.999938964844",
         "931.999969482422",
         "1421.3040351867676",
         "-0.0152621468509201",
         "Na mesma",
         "1405.022430419922",
         "-0.0265427118299807",
         "Na mesma",
         "1172.2885131835938",
         "-0.1877903353788449",
         "Cai muito",
         "2110.885810852051",
         "0.4625084500995973",
         "Sobe muito",
         "0.0013288031581635",
         "0.0013279210805654",
         "-0.0004296763105126",
         "-0.0004297686478295",
         "-0.0183937473531355",
         "-0.0185650157535789",
         "-0.0047972354508313",
         "-0.0048087791180732",
         "0.0",
         "0.0",
         "0.0026536232661407",
         "0.0026501086242387",
         "0.0034321894453757",
         "0.0034263129255619",
         "-0.0001074447129284",
         "-0.0001074504855251",
         "-0.0017856195323003",
         "-0.0017872156511811",
         "0.0097236711580628",
         "0.0096767005069902",
         "0.0115003726707247",
         "0.011434746059332",
         "-0.0112495441645738",
         "-0.0113132988784568",
         "0.0054289524107249",
         "0.0054142687691396",
         "0.0",
         "0.0",
         "-0.0010117171037736",
         "-0.0010122292349731",
         "0.0105213067020906",
         "0.0104663429456203",
         "0.0005145441402867",
         "0.0005144118078425",
         "0.0",
         "0.0",
         "0.0101956261394839",
         "0.0101440013448414",
         null,
         null,
         null,
         null,
         null,
         null,
         null,
         null,
         null,
         null,
         null,
         null,
         null,
         null,
         null,
         null,
         null,
         null,
         null,
         null,
         null,
         null,
         null,
         null,
         null,
         null,
         null,
         null,
         null,
         null,
         null,
         null,
         null,
         null,
         null,
         null,
         null,
         null,
         null,
         null,
         null,
         null,
         null,
         null,
         null,
         null,
         null,
         null,
         null,
         null,
         null,
         null,
         null,
         null,
         null,
         null,
         null,
         null,
         null,
         null,
         null,
         null,
         null,
         null,
         null,
         null,
         null,
         null,
         null,
         null,
         null,
         null,
         null,
         null,
         null,
         null,
         null,
         null,
         null,
         null,
         null,
         null,
         null,
         null,
         null,
         null,
         null,
         null,
         null,
         null,
         null,
         null,
         null,
         null,
         null,
         null,
         null,
         null,
         null,
         null,
         null,
         null,
         null,
         null,
         null,
         null,
         null,
         null,
         null,
         null,
         null,
         null,
         null,
         null,
         null,
         null,
         null,
         null,
         null,
         null,
         null,
         null,
         null,
         null,
         null,
         null,
         null,
         null,
         null,
         null,
         null,
         null,
         null,
         null,
         null,
         null,
         null,
         null,
         null,
         null,
         null,
         null,
         null,
         null,
         null,
         null,
         null,
         null,
         null,
         null,
         null,
         null,
         null,
         null,
         null,
         null,
         null,
         null,
         null,
         null,
         null,
         null,
         null,
         null,
         null,
         null,
         null,
         null,
         null,
         null,
         null,
         null,
         null,
         null,
         null,
         null,
         null,
         null,
         null,
         null,
         null,
         null,
         null,
         null,
         null,
         null,
         null,
         null,
         null,
         null,
         null,
         null,
         null,
         null,
         null,
         null,
         null,
         null,
         null,
         null,
         null,
         null,
         null,
         null,
         null,
         null,
         null,
         null,
         null,
         null,
         null,
         null,
         null,
         null,
         null,
         null,
         null,
         null,
         null,
         null,
         null,
         null,
         null,
         null,
         null,
         null,
         null,
         null,
         "1441.4170265197754",
         "1448.1212615966797",
         null,
         null,
         null,
         "38481.6421",
         "38382.4342",
         null,
         null,
         null,
         "561.0599994659424",
         "561.8599891662598",
         null,
         null,
         null,
         "4586.000061035156",
         "4513.000106811523",
         null,
         null,
         null,
         "931.999969482422",
         "923.9999771118164",
         null,
         null,
         null,
         "40.396392822265625",
         "39.994388580322266",
         null,
         null,
         null,
         "1.1794538497924805",
         "1.1798018217086792",
         null,
         null,
         null,
         "93.0199966430664",
         "93.3000030517578",
         null,
         null,
         null,
         "39.827857971191406",
         "39.66783142089844",
         null,
         null,
         null,
         "2.930999994277954",
         "2.922499895095825",
         null,
         null,
         null,
         "183.6766967773437",
         "185.59701538085932",
         null,
         null,
         null,
         "2.489000082015991",
         "2.513000011444092",
         null,
         null,
         null,
         "22.03816795349121",
         "22.26150131225586",
         null,
         null,
         null,
         "13.015003204345703",
         "13.015003204345703",
         null,
         null,
         null,
         "6.918900012969971",
         "6.918499946594238",
         null,
         null,
         null,
         "56.804012298583984",
         "57.03040313720703",
         null,
         null,
         null,
         "71.97260284423828",
         "72.06521606445312",
         null,
         null,
         null,
         "139.3125",
         "139.515625",
         null,
         null,
         null,
         "3443.6201171875",
         "3431.280029296875",
         null,
         null,
         null,
         null,
         "0",
         null,
         "0",
         null,
         "0",
         "37021.77506398316",
         "-892.5923824310303",
         "39.32008767127991",
         "26.65020741074888",
         "0.3815753106640174",
         "34.223508738071786",
         "4013.259935379028",
         "511.3324165344237",
         "-40.50226082696879",
         "0.1186529881632982",
         "0.6457278853517975",
         "0.0017584794686761",
         "-0.0183937473531355",
         "0.0027610679790691",
         "-0.0064406695144986",
         null,
         null,
         "0",
         null,
         "0",
         "0",
         "8",
         "3",
         "2",
         "0",
         "0.0013288031581635",
         "-0.0004296763105127",
         "-0.0183937473531355",
         "-0.0047972354508313",
         "0.0",
         "0.0013279210805654",
         "-0.0004297686478296",
         "-0.0185650157535789",
         "-0.0048087791180732",
         "0.0",
         null,
         null,
         null,
         null,
         null,
         null,
         null,
         null,
         null,
         null,
         null,
         null,
         null,
         null,
         null,
         null,
         null,
         null,
         null,
         null,
         null,
         null,
         null,
         null,
         null,
         null,
         null,
         null,
         null,
         null,
         null,
         null,
         null,
         null,
         null,
         null,
         null,
         null,
         null,
         null,
         null,
         null,
         null,
         null,
         null,
         null,
         null,
         null,
         null,
         null,
         null,
         null,
         null,
         null,
         null,
         null,
         null,
         null,
         null,
         null,
         "14.414170265197754",
         null,
         null,
         null,
         null,
         "1745.5",
         null,
         null,
         null,
         null,
         "5.610599994659424",
         null,
         null,
         null,
         null,
         "45.86000061035156",
         null,
         null,
         null,
         null,
         "9.31999969482422",
         null,
         null,
         null,
         null,
         null,
         null,
         null,
         null,
         null,
         null,
         null,
         null,
         null,
         null,
         null,
         null,
         null,
         null,
         null,
         null,
         null,
         null,
         null
        ],
        [
         "3",
         "2020-08-27 00:00:00",
         "14.213040351867676",
         "1746.25",
         "5.607200145721436",
         "45.09000015258789",
         "9.289999961853027",
         "93.01000213623048",
         "40.16412353515625",
         "1.1842728853225708",
         "39.67672348022461",
         "2.9649999141693115",
         "187.1332244873047",
         "2.5789999961853027",
         "21.94245147705078",
         "13.015003204345703",
         "6.884900093078613",
         "57.24771118164063",
         "72.26888275146484",
         "138.96875",
         "3484.550048828125",
         "-0.0152621468509202",
         "1421.3040351867676",
         "38498.17674999999",
         "560.7200145721436",
         "4509.000015258789",
         "928.9999961853028",
         "1448.1212615966797",
         "0.018868043533267",
         "Na mesma",
         "1362.881088256836",
         "-0.0411051720698552",
         "Cai",
         "1219.218349456787",
         "-0.1421832913486559",
         "Cai muito",
         "2198.0409622192383",
         "0.5464959697594913",
         "Sobe muito",
         "-0.0152621468509202",
         "-0.0153798121662436",
         "0.0008597220232122",
         "0.0008593526739103",
         "0.0181210932951105",
         "0.0179588632103814",
         "-0.0120508160476726",
         "-0.0121240158036362",
         "-0.0032188555744107",
         "-0.0032240472338098",
         "-0.0083811360442533",
         "-0.0084164552467598",
         "0.0006513943384394",
         "0.0006511822732343",
         "0.0",
         "0.0",
         "-0.0020126672533108",
         "-0.0020146953898133",
         "0.0018583678474326",
         "0.0018566432182375",
         "0.0072349649565113",
         "0.0072089181538988",
         "0.0479480016918902",
         "0.0468339679616893",
         "-0.0097194001071699",
         "-0.0097669417782141",
         "0.0",
         "0.0",
         "-0.0039062993155369",
         "-0.0039139488300688",
         "-0.0026820398495377",
         "-0.0026856429623183",
         "0.0036001685446769",
         "0.0035937034502086",
         "-0.0024674742036787",
         "-0.0024705234351177",
         "0.0016730440109038",
         "0.0016716460318091",
         null,
         null,
         null,
         null,
         null,
         null,
         null,
         null,
         null,
         null,
         null,
         null,
         null,
         null,
         null,
         null,
         null,
         null,
         null,
         null,
         null,
         null,
         null,
         null,
         null,
         null,
         null,
         null,
         null,
         null,
         null,
         null,
         null,
         null,
         null,
         null,
         null,
         null,
         null,
         null,
         null,
         null,
         null,
         null,
         null,
         null,
         null,
         null,
         null,
         null,
         null,
         null,
         null,
         null,
         null,
         null,
         null,
         null,
         null,
         null,
         null,
         null,
         null,
         null,
         null,
         null,
         null,
         null,
         null,
         null,
         null,
         null,
         null,
         null,
         null,
         null,
         null,
         null,
         null,
         null,
         null,
         null,
         null,
         null,
         null,
         null,
         null,
         null,
         null,
         null,
         null,
         null,
         null,
         null,
         null,
         null,
         null,
         null,
         null,
         null,
         null,
         null,
         null,
         null,
         null,
         null,
         null,
         null,
         null,
         null,
         null,
         null,
         null,
         null,
         null,
         null,
         null,
         null,
         null,
         null,
         null,
         null,
         null,
         null,
         null,
         null,
         null,
         null,
         null,
         null,
         null,
         null,
         null,
         null,
         null,
         null,
         null,
         null,
         null,
         null,
         null,
         null,
         null,
         null,
         null,
         null,
         null,
         null,
         null,
         null,
         null,
         null,
         null,
         null,
         null,
         null,
         null,
         null,
         null,
         null,
         null,
         null,
         null,
         null,
         null,
         null,
         null,
         null,
         null,
         null,
         null,
         null,
         null,
         null,
         null,
         null,
         null,
         null,
         null,
         null,
         null,
         null,
         null,
         null,
         null,
         null,
         null,
         null,
         null,
         null,
         null,
         null,
         null,
         null,
         null,
         null,
         null,
         null,
         null,
         null,
         null,
         null,
         null,
         null,
         null,
         null,
         null,
         null,
         null,
         null,
         null,
         null,
         null,
         null,
         null,
         null,
         null,
         null,
         null,
         null,
         null,
         null,
         null,
         null,
         null,
         null,
         null,
         null,
         "1443.3323860168457",
         "1441.4170265197754",
         "1448.1212615966797",
         null,
         null,
         "38465.10745",
         "38481.6421",
         "38382.4342",
         null,
         null,
         "550.7400035858154",
         "561.0599994659424",
         "561.8599891662598",
         null,
         null,
         "4563.999938964844",
         "4586.000061035156",
         "4513.000106811523",
         null,
         null,
         "931.999969482422",
         "931.999969482422",
         "923.9999771118164",
         null,
         null,
         "40.50358963012695",
         "40.396392822265625",
         "39.994388580322266",
         null,
         null,
         "1.183501958847046",
         "1.1794538497924805",
         "1.1798018217086792",
         null,
         null,
         "93.01000213623048",
         "93.0199966430664",
         "93.3000030517578",
         null,
         null,
         "39.75674057006836",
         "39.827857971191406",
         "39.66783142089844",
         null,
         null,
         "2.9595000743865967",
         "2.930999994277954",
         "2.922499895095825",
         null,
         null,
         "185.7890472412109",
         "183.6766967773437",
         "185.59701538085932",
         null,
         null,
         "2.4609999656677246",
         "2.489000082015991",
         "2.513000011444092",
         null,
         null,
         "22.15781211853028",
         "22.03816795349121",
         "22.26150131225586",
         null,
         null,
         "13.015003204345703",
         "13.015003204345703",
         "13.015003204345703",
         null,
         null,
         "6.911900043487549",
         "6.918900012969971",
         "6.918499946594238",
         null,
         null,
         "57.40166473388672",
         "56.804012298583984",
         "57.03040313720703",
         null,
         null,
         "72.00963592529297",
         "71.97260284423828",
         "72.06521606445312",
         null,
         null,
         "139.3125",
         "139.3125",
         "139.515625",
         null,
         null,
         "3478.72998046875",
         "3443.6201171875",
         "3431.280029296875",
         null,
         null,
         null,
         "0",
         null,
         "0",
         null,
         "0",
         "37076.87271481322",
         "-860.584020614624",
         "38.97985064983368",
         "27.08651759012357",
         "0.3945109566219318",
         "33.91458508671031",
         "3948.2800006866455",
         "492.30403900146473",
         "-40.17938568200717",
         "0.1171224300968691",
         "0.653625102853681",
         "-0.0161218688741324",
         "0.0213399488695212",
         "-0.0083811360442533",
         "0.0058131007916329",
         null,
         null,
         "0",
         null,
         "0",
         "0",
         "8",
         "3",
         "3",
         "0",
         "-0.01526214685092",
         "0.0008597220232124",
         "0.0181210932951108",
         "-0.0120508160476726",
         "-0.0032188555744109",
         "-0.0153798121662435",
         "0.0008593526739105",
         "0.0179588632103816",
         "-0.0121240158036362",
         "-0.0032240472338101",
         null,
         null,
         null,
         null,
         null,
         null,
         null,
         null,
         null,
         null,
         null,
         null,
         null,
         null,
         null,
         null,
         null,
         null,
         null,
         null,
         null,
         null,
         null,
         null,
         null,
         null,
         null,
         null,
         null,
         null,
         null,
         null,
         null,
         null,
         null,
         null,
         null,
         null,
         null,
         null,
         null,
         null,
         null,
         null,
         null,
         null,
         null,
         null,
         null,
         null,
         null,
         null,
         null,
         null,
         null,
         null,
         null,
         null,
         null,
         null,
         "14.433323860168455",
         "14.481212615966797",
         null,
         null,
         null,
         "1744.75",
         "1741.0",
         null,
         null,
         null,
         "5.507400035858154",
         "5.618599891662598",
         null,
         null,
         null,
         "45.63999938964844",
         "45.130001068115234",
         null,
         null,
         null,
         "9.31999969482422",
         "9.239999771118164",
         null,
         null,
         null,
         null,
         null,
         null,
         null,
         null,
         null,
         null,
         null,
         null,
         null,
         null,
         null,
         null,
         null,
         null,
         null,
         null,
         null,
         null
        ],
        [
         "4",
         "2020-08-28 00:00:00",
         "14.481212615966797",
         "1777.25",
         "5.568699836730957",
         "45.04999923706055",
         "9.899999618530272",
         "92.37000274658205",
         "40.691192626953125",
         "1.1819632053375244",
         "39.996768951416016",
         "2.994999885559082",
         "186.0770874023437",
         "2.657000064849853",
         "22.3492374420166",
         "13.015003204345703",
         "6.889200210571289",
         "57.926876068115234",
         "72.95409393310547",
         "139.25",
         "3508.010009765625",
         "0.018868043533267",
         "1448.1212615966797",
         "39181.60895",
         "556.8699836730957",
         "4504.999923706055",
         "989.9999618530272",
         "1400.2333641052246",
         "-0.0330689830758057",
         "Cai",
         "1379.1629791259766",
         "-0.0476191354270087",
         "Cai",
         "1199.1056442260742",
         "-0.1719577109834325",
         "Cai muito",
         "2207.618522644043",
         "0.5244707616611827",
         "Sobe muito",
         "0.018868043533267",
         "0.0186922498133152",
         "0.017752326413744",
         "0.0175965942384211",
         "-0.0068662269920677",
         "-0.0068899079902798",
         "-0.0008871349610107",
         "-0.0008875286981128",
         "0.065661965466313",
         "0.0635961698887408",
         "0.0131228829464067",
         "0.0130375238783844",
         "-0.0019502937318516",
         "-0.0019521980310365",
         "-0.006880973819472",
         "-0.0069047568830397",
         "0.008066328142013",
         "0.0080339692125256",
         "0.0101180344884346",
         "0.0100671898550222",
         "-0.0056437711040062",
         "-0.0056597573570195",
         "0.0302443073981866",
         "0.0297959657647775",
         "0.0185387656156501",
         "0.0183690174387053",
         "0.0",
         "0.0",
         "0.0006245722428126",
         "0.0006243772787446",
         "0.0118636164216188",
         "0.0117937954016694",
         "0.0094814137918401",
         "0.0094367473004628",
         "0.0020238362941309",
         "0.0020217910964235",
         "0.0067325653552858",
         "0.0067100028495702",
         "1440.4591941833496",
         "11.10751259704372",
         "1448.1212615966797",
         "1421.3040351867676",
         null,
         null,
         null,
         null,
         null,
         null,
         null,
         null,
         "38601.79389",
         "327.1698047732881",
         "39181.60895",
         "38382.4342",
         null,
         null,
         null,
         null,
         null,
         null,
         null,
         null,
         "558.2499980926514",
         "4.618808882419792",
         "561.8599891662598",
         "550.7400035858154",
         null,
         null,
         null,
         null,
         null,
         null,
         null,
         null,
         "4535.400009155273",
         "37.08504325675965",
         "4586.000061035156",
         "4504.999923706055",
         null,
         null,
         null,
         null,
         null,
         null,
         null,
         null,
         "941.399974822998",
         "27.364202576948745",
         "989.9999618530272",
         "923.9999771118164",
         null,
         null,
         null,
         null,
         null,
         null,
         null,
         null,
         "40.34993743896485",
         "0.2753016525314032",
         "40.691192626953125",
         "39.994388580322266",
         null,
         null,
         null,
         null,
         null,
         null,
         null,
         null,
         "1.1817987442016602",
         "0.0021526490141696",
         "1.1842728853225708",
         "1.1794538497924805",
         null,
         null,
         null,
         null,
         null,
         null,
         null,
         null,
         "92.94200134277344",
         "0.3430302830545753",
         "93.3000030517578",
         "92.37000274658205",
         null,
         null,
         null,
         null,
         null,
         null,
         null,
         null,
         "39.78518447875977",
         "0.1350311078602157",
         "39.996768951416016",
         "39.66783142089844",
         null,
         null,
         null,
         null,
         null,
         null,
         null,
         null,
         "2.954599952697754",
         "0.0289469199649919",
         "2.994999885559082",
         "2.922499895095825",
         null,
         null,
         null,
         null,
         null,
         null,
         null,
         null,
         "185.65461425781248",
         "1.2548226155322386",
         "187.1332244873047",
         "183.6766967773437",
         null,
         null,
         null,
         null,
         null,
         null,
         null,
         null,
         "2.539800024032593",
         "0.0787096108589688",
         "2.657000064849853",
         "2.4609999656677246",
         null,
         null,
         null,
         null,
         null,
         null,
         null,
         null,
         "22.149834060668944",
         "0.1641430690415129",
         "22.3492374420166",
         "21.94245147705078",
         null,
         null,
         null,
         null,
         null,
         null,
         null,
         null,
         "13.015003204345703",
         "0.0",
         "13.015003204345703",
         "13.015003204345703",
         null,
         null,
         null,
         null,
         null,
         null,
         null,
         null,
         "6.904680061340332",
         "0.0164027232438166",
         "6.918900012969971",
         "6.884900093078613",
         null,
         null,
         null,
         null,
         null,
         null,
         null,
         null,
         "57.28213348388672",
         "0.4251863267471448",
         "57.926876068115234",
         "56.804012298583984",
         null,
         null,
         null,
         null,
         null,
         null,
         null,
         null,
         "72.25408630371093",
         "0.4077040927006292",
         "72.95409393310547",
         "71.97260284423828",
         null,
         null,
         null,
         null,
         null,
         null,
         null,
         null,
         "139.271875",
         "0.1968998000252944",
         "139.515625",
         "138.96875",
         null,
         null,
         null,
         null,
         null,
         null,
         null,
         null,
         "3469.238037109375",
         "31.32454602020243",
         "3508.010009765625",
         "3431.280029296875",
         null,
         null,
         null,
         null,
         null,
         null,
         null,
         null,
         "1421.3040351867676",
         "1443.3323860168457",
         "1441.4170265197754",
         null,
         null,
         "38498.17674999999",
         "38465.10745",
         "38481.6421",
         null,
         null,
         "560.7200145721436",
         "550.7400035858154",
         "561.0599994659424",
         null,
         null,
         "4509.000015258789",
         "4563.999938964844",
         "4586.000061035156",
         null,
         null,
         "928.9999961853028",
         "931.999969482422",
         "931.999969482422",
         null,
         null,
         "40.16412353515625",
         "40.50358963012695",
         "40.396392822265625",
         null,
         null,
         "1.1842728853225708",
         "1.183501958847046",
         "1.1794538497924805",
         null,
         null,
         "93.01000213623048",
         "93.01000213623048",
         "93.0199966430664",
         null,
         null,
         "39.67672348022461",
         "39.75674057006836",
         "39.827857971191406",
         null,
         null,
         "2.9649999141693115",
         "2.9595000743865967",
         "2.930999994277954",
         null,
         null,
         "187.1332244873047",
         "185.7890472412109",
         "183.6766967773437",
         null,
         null,
         "2.5789999961853027",
         "2.4609999656677246",
         "2.489000082015991",
         null,
         null,
         "21.94245147705078",
         "22.15781211853028",
         "22.03816795349121",
         null,
         null,
         "13.015003204345703",
         "13.015003204345703",
         "13.015003204345703",
         null,
         null,
         "6.884900093078613",
         "6.911900043487549",
         "6.918900012969971",
         null,
         null,
         "57.24771118164063",
         "57.40166473388672",
         "56.804012298583984",
         null,
         null,
         "72.26888275146484",
         "72.00963592529297",
         "71.97260284423828",
         null,
         null,
         "138.96875",
         "139.3125",
         "139.3125",
         null,
         null,
         "3484.550048828125",
         "3478.72998046875",
         "3443.6201171875",
         null,
         null,
         "0.6898094732180945",
         "1",
         null,
         "0",
         null,
         "0",
         "37733.48768840332",
         "-891.251277923584",
         "39.5092294216156",
         "27.056856348341206",
         "0.3845465144673713",
         "34.426784559112605",
         "3948.129940032959",
         "458.12129974365246",
         "-40.67232458341986",
         "0.1149774101787122",
         "0.6836443798646159",
         "0.001115717119523",
         "-0.0725281924583808",
         "0.0200038567658787",
         "-0.0179141933728375",
         "1440.4591941833496",
         null,
         "0",
         null,
         "0",
         "0",
         "8",
         "3",
         "4",
         "0",
         "0.018868043533267",
         "0.0177523264137438",
         "-0.0068662269920678",
         "-0.0008871349610107",
         "0.065661965466313",
         "0.0186922498133152",
         "0.0175965942384209",
         "-0.0068899079902799",
         "-0.0008875286981128",
         "0.0635961698887408",
         "14.404591941833496",
         null,
         null,
         "1750.95",
         null,
         null,
         "5.582499980926514",
         null,
         null,
         "45.354000091552734",
         null,
         null,
         "9.41399974822998",
         null,
         null,
         "0.1110751259704369",
         null,
         null,
         "14.840190362660431",
         null,
         null,
         "0.0461880888241982",
         null,
         null,
         "0.3708504325675961",
         null,
         null,
         "0.2736420257694874",
         null,
         null,
         "14.481212615966797",
         null,
         null,
         "1777.25",
         null,
         null,
         "5.618599891662598",
         null,
         null,
         "45.86000061035156",
         null,
         null,
         "9.899999618530272",
         null,
         null,
         "14.213040351867676",
         null,
         null,
         "1741.0",
         null,
         null,
         "5.507400035858154",
         null,
         null,
         "45.04999923706055",
         null,
         null,
         "9.239999771118164",
         null,
         null,
         "14.213040351867676",
         "14.414170265197754",
         null,
         null,
         null,
         "1746.25",
         "1745.5",
         null,
         null,
         null,
         "5.607200145721436",
         "5.610599994659424",
         null,
         null,
         null,
         "45.09000015258789",
         "45.86000061035156",
         null,
         null,
         null,
         "9.289999961853027",
         "9.31999969482422",
         null,
         null,
         null,
         null,
         null,
         null,
         null,
         null,
         null,
         null,
         null,
         null,
         null,
         null,
         null,
         null,
         null,
         null,
         null,
         null,
         null,
         null
        ]
       ],
       "shape": {
        "columns": 544,
        "rows": 5
       }
      },
      "text/html": [
       "<div>\n",
       "<style scoped>\n",
       "    .dataframe tbody tr th:only-of-type {\n",
       "        vertical-align: middle;\n",
       "    }\n",
       "\n",
       "    .dataframe tbody tr th {\n",
       "        vertical-align: top;\n",
       "    }\n",
       "\n",
       "    .dataframe thead th {\n",
       "        text-align: right;\n",
       "    }\n",
       "</style>\n",
       "<table border=\"1\" class=\"dataframe\">\n",
       "  <thead>\n",
       "    <tr style=\"text-align: right;\">\n",
       "      <th></th>\n",
       "      <th>date</th>\n",
       "      <th>aluminum</th>\n",
       "      <th>copper</th>\n",
       "      <th>zinc</th>\n",
       "      <th>tin</th>\n",
       "      <th>lead</th>\n",
       "      <th>steel</th>\n",
       "      <th>oil</th>\n",
       "      <th>gas</th>\n",
       "      <th>dxy</th>\n",
       "      <th>...</th>\n",
       "      <th>pick_lag21</th>\n",
       "      <th>fxi_lag21</th>\n",
       "      <th>alcoa_lag21</th>\n",
       "      <th>century_aluminum_lag21</th>\n",
       "      <th>hindalco_lag21</th>\n",
       "      <th>aluminum_usdton_lag21</th>\n",
       "      <th>copper_usdton_lag21</th>\n",
       "      <th>zinc_usdton_lag21</th>\n",
       "      <th>tin_usdton_lag21</th>\n",
       "      <th>lead_usdton_lag21</th>\n",
       "    </tr>\n",
       "  </thead>\n",
       "  <tbody>\n",
       "    <tr>\n",
       "      <th>0</th>\n",
       "      <td>2020-08-24</td>\n",
       "      <td>14.481213</td>\n",
       "      <td>1741.00</td>\n",
       "      <td>5.6186</td>\n",
       "      <td>45.130001</td>\n",
       "      <td>9.24</td>\n",
       "      <td>93.300003</td>\n",
       "      <td>39.994389</td>\n",
       "      <td>1.179802</td>\n",
       "      <td>39.667831</td>\n",
       "      <td>...</td>\n",
       "      <td>NaN</td>\n",
       "      <td>NaN</td>\n",
       "      <td>NaN</td>\n",
       "      <td>NaN</td>\n",
       "      <td>NaN</td>\n",
       "      <td>NaN</td>\n",
       "      <td>NaN</td>\n",
       "      <td>NaN</td>\n",
       "      <td>NaN</td>\n",
       "      <td>NaN</td>\n",
       "    </tr>\n",
       "    <tr>\n",
       "      <th>1</th>\n",
       "      <td>2020-08-25</td>\n",
       "      <td>14.414170</td>\n",
       "      <td>1745.50</td>\n",
       "      <td>5.6106</td>\n",
       "      <td>45.860001</td>\n",
       "      <td>9.32</td>\n",
       "      <td>93.019997</td>\n",
       "      <td>40.396393</td>\n",
       "      <td>1.179454</td>\n",
       "      <td>39.827858</td>\n",
       "      <td>...</td>\n",
       "      <td>NaN</td>\n",
       "      <td>NaN</td>\n",
       "      <td>NaN</td>\n",
       "      <td>NaN</td>\n",
       "      <td>NaN</td>\n",
       "      <td>NaN</td>\n",
       "      <td>NaN</td>\n",
       "      <td>NaN</td>\n",
       "      <td>NaN</td>\n",
       "      <td>NaN</td>\n",
       "    </tr>\n",
       "    <tr>\n",
       "      <th>2</th>\n",
       "      <td>2020-08-26</td>\n",
       "      <td>14.433324</td>\n",
       "      <td>1744.75</td>\n",
       "      <td>5.5074</td>\n",
       "      <td>45.639999</td>\n",
       "      <td>9.32</td>\n",
       "      <td>93.010002</td>\n",
       "      <td>40.503590</td>\n",
       "      <td>1.183502</td>\n",
       "      <td>39.756741</td>\n",
       "      <td>...</td>\n",
       "      <td>NaN</td>\n",
       "      <td>NaN</td>\n",
       "      <td>NaN</td>\n",
       "      <td>NaN</td>\n",
       "      <td>NaN</td>\n",
       "      <td>NaN</td>\n",
       "      <td>NaN</td>\n",
       "      <td>NaN</td>\n",
       "      <td>NaN</td>\n",
       "      <td>NaN</td>\n",
       "    </tr>\n",
       "    <tr>\n",
       "      <th>3</th>\n",
       "      <td>2020-08-27</td>\n",
       "      <td>14.213040</td>\n",
       "      <td>1746.25</td>\n",
       "      <td>5.6072</td>\n",
       "      <td>45.090000</td>\n",
       "      <td>9.29</td>\n",
       "      <td>93.010002</td>\n",
       "      <td>40.164124</td>\n",
       "      <td>1.184273</td>\n",
       "      <td>39.676723</td>\n",
       "      <td>...</td>\n",
       "      <td>NaN</td>\n",
       "      <td>NaN</td>\n",
       "      <td>NaN</td>\n",
       "      <td>NaN</td>\n",
       "      <td>NaN</td>\n",
       "      <td>NaN</td>\n",
       "      <td>NaN</td>\n",
       "      <td>NaN</td>\n",
       "      <td>NaN</td>\n",
       "      <td>NaN</td>\n",
       "    </tr>\n",
       "    <tr>\n",
       "      <th>4</th>\n",
       "      <td>2020-08-28</td>\n",
       "      <td>14.481213</td>\n",
       "      <td>1777.25</td>\n",
       "      <td>5.5687</td>\n",
       "      <td>45.049999</td>\n",
       "      <td>9.90</td>\n",
       "      <td>92.370003</td>\n",
       "      <td>40.691193</td>\n",
       "      <td>1.181963</td>\n",
       "      <td>39.996769</td>\n",
       "      <td>...</td>\n",
       "      <td>NaN</td>\n",
       "      <td>NaN</td>\n",
       "      <td>NaN</td>\n",
       "      <td>NaN</td>\n",
       "      <td>NaN</td>\n",
       "      <td>NaN</td>\n",
       "      <td>NaN</td>\n",
       "      <td>NaN</td>\n",
       "      <td>NaN</td>\n",
       "      <td>NaN</td>\n",
       "    </tr>\n",
       "  </tbody>\n",
       "</table>\n",
       "<p>5 rows × 544 columns</p>\n",
       "</div>"
      ],
      "text/plain": [
       "        date   aluminum   copper    zinc        tin  lead      steel  \\\n",
       "0 2020-08-24  14.481213  1741.00  5.6186  45.130001  9.24  93.300003   \n",
       "1 2020-08-25  14.414170  1745.50  5.6106  45.860001  9.32  93.019997   \n",
       "2 2020-08-26  14.433324  1744.75  5.5074  45.639999  9.32  93.010002   \n",
       "3 2020-08-27  14.213040  1746.25  5.6072  45.090000  9.29  93.010002   \n",
       "4 2020-08-28  14.481213  1777.25  5.5687  45.049999  9.90  92.370003   \n",
       "\n",
       "         oil       gas        dxy  ...  pick_lag21  fxi_lag21  alcoa_lag21  \\\n",
       "0  39.994389  1.179802  39.667831  ...         NaN        NaN          NaN   \n",
       "1  40.396393  1.179454  39.827858  ...         NaN        NaN          NaN   \n",
       "2  40.503590  1.183502  39.756741  ...         NaN        NaN          NaN   \n",
       "3  40.164124  1.184273  39.676723  ...         NaN        NaN          NaN   \n",
       "4  40.691193  1.181963  39.996769  ...         NaN        NaN          NaN   \n",
       "\n",
       "   century_aluminum_lag21  hindalco_lag21  aluminum_usdton_lag21  \\\n",
       "0                     NaN             NaN                    NaN   \n",
       "1                     NaN             NaN                    NaN   \n",
       "2                     NaN             NaN                    NaN   \n",
       "3                     NaN             NaN                    NaN   \n",
       "4                     NaN             NaN                    NaN   \n",
       "\n",
       "   copper_usdton_lag21  zinc_usdton_lag21  tin_usdton_lag21  lead_usdton_lag21  \n",
       "0                  NaN                NaN               NaN                NaN  \n",
       "1                  NaN                NaN               NaN                NaN  \n",
       "2                  NaN                NaN               NaN                NaN  \n",
       "3                  NaN                NaN               NaN                NaN  \n",
       "4                  NaN                NaN               NaN                NaN  \n",
       "\n",
       "[5 rows x 544 columns]"
      ]
     },
     "execution_count": 1,
     "metadata": {},
     "output_type": "execute_result"
    }
   ],
   "source": [
    "\n",
    "import pandas as pd\n",
    "import numpy as np\n",
    "\n",
    "from sklearn.model_selection import train_test_split\n",
    "from sklearn.ensemble import RandomForestClassifier\n",
    "from sklearn.metrics import classification_report, confusion_matrix\n",
    "\n",
    "import matplotlib.pyplot as plt\n",
    "import seaborn as sns\n",
    "\n",
    "RANDOM_STATE = 42\n",
    "np.random.seed(RANDOM_STATE)\n",
    "\n",
    "# Caminho do seu arquivo\n",
    "df = pd.read_csv('aluminium_full_featured.csv', parse_dates=['date'])\n",
    "\n",
    "print(f\"DIMENSÃO ORIGINAL: {df.shape}\")\n",
    "df.head()\n"
   ]
  },
  {
   "cell_type": "markdown",
   "id": "1233c09c",
   "metadata": {},
   "source": [
    "Esses \"missing\" vêm do próprio cálculo de rolling/lags e do fato de você calcular retornos e targets para frente (ex: future_90d vai “perder” os 90 últimos dias do dataset)."
   ]
  },
  {
   "cell_type": "code",
   "execution_count": null,
   "id": "710e5b2a",
   "metadata": {},
   "outputs": [
    {
     "name": "stdout",
     "output_type": "stream",
     "text": [
      "DataFrame empilhado/multi-horizon pronto: (5216, 534)\n",
      "Index(['aluminum', 'copper', 'zinc', 'tin', 'lead', 'steel', 'oil', 'gas',\n",
      "       'dxy', 'usdcny',\n",
      "       ...\n",
      "       'century_aluminum_lag21', 'hindalco_lag21', 'aluminum_usdton_lag21',\n",
      "       'copper_usdton_lag21', 'zinc_usdton_lag21', 'tin_usdton_lag21',\n",
      "       'lead_usdton_lag21', 'target', 'date', 'horizon'],\n",
      "      dtype='object', length=534)\n"
     ]
    }
   ],
   "source": [
    "# CEL 2 – transforma DataFrame “wide” (com uma coluna para cada horizonte) em um DataFrame “long” (multiplica as linhas, e coloca “horizon” como uma coluna).\n",
    "\n",
    "horizons = list(range(1, 91))  # Previsão de 1 a 90 dias à frente\n",
    "\n",
    "base_cols = [col for col in df.columns \n",
    "             if col not in ['date'] and not col.startswith('bin_') \n",
    "             and not col.startswith('ret_') and not col.startswith('future_')]\n",
    "\n",
    "records = []\n",
    "for h in horizons:\n",
    "    bin_col = f'bin_{h}d'\n",
    "    if bin_col in df.columns:\n",
    "        temp = df[base_cols + [bin_col, 'date']].copy()\n",
    "        temp = temp.rename(columns={bin_col: 'target'})\n",
    "        temp['horizon'] = h\n",
    "        temp = temp[~temp['target'].isnull()]\n",
    "        records.append(temp)\n",
    "\n",
    "df_long = pd.concat(records, ignore_index=True)\n",
    "print(f\"DataFrame empilhado/multi-horizon pronto: {df_long.shape}\")\n",
    "print(df_long.columns)\n"
   ]
  },
  {
   "cell_type": "code",
   "execution_count": 3,
   "id": "88e98d62",
   "metadata": {},
   "outputs": [
    {
     "name": "stdout",
     "output_type": "stream",
     "text": [
      "Formato X: (5216, 532), y: (5216,)\n",
      "Features de entrada (exemplo): ['aluminum', 'copper', 'zinc', 'tin', 'lead', 'steel', 'oil', 'gas', 'dxy', 'usdcny', '...']\n",
      "Classes presentes: ['Na mesma' 'Cai' 'Sobe' 'Cai muito' 'Sobe muito']\n"
     ]
    }
   ],
   "source": [
    "# CEL 3 — Separação das features (X) e alvo (y) para o modelo multi-horizon\n",
    "\n",
    "# Features para o modelo: todas, exceto 'date' e 'target'\n",
    "feature_cols = [c for c in df_long.columns if c not in ['target', 'date']]\n",
    "\n",
    "# X: tudo menos o alvo verdadeiro (target) e a data\n",
    "X = df_long[feature_cols].copy()\n",
    "# y: categoria que queremos prever\n",
    "y = df_long['target'].copy()\n",
    "\n",
    "print(f\"Formato X: {X.shape}, y: {y.shape}\")\n",
    "print(f\"Features de entrada (exemplo): {X.columns[:10].tolist() + ['...']}\")\n",
    "print(f\"Classes presentes: {y.unique()}\")\n"
   ]
  },
  {
   "cell_type": "code",
   "execution_count": 4,
   "id": "61dd6b7a",
   "metadata": {},
   "outputs": [
    {
     "name": "stdout",
     "output_type": "stream",
     "text": [
      "Treino: X = (4172, 532), Teste: X = (1044, 532)\n",
      "Classes treino: {'Na mesma': 1163, 'Sobe muito': 1085, 'Cai muito': 729, 'Sobe': 620, 'Cai': 575}\n",
      "Classes teste: {'Na mesma': 331, 'Cai muito': 310, 'Cai': 153, 'Sobe': 127, 'Sobe muito': 123}\n"
     ]
    }
   ],
   "source": [
    "# CEL 4 — Split temporal: Treino = \"primeiros 80%\", Teste = \"últimos 20%\" das datas originais\n",
    "\n",
    "# Ordena pelas datas\n",
    "df_long_sorted = df_long.sort_values(['date', 'horizon']).reset_index(drop=True)\n",
    "\n",
    "# Separe as datas únicas\n",
    "unique_dates = df_long_sorted['date'].sort_values().unique()\n",
    "split_ix = int(0.8 * len(unique_dates))\n",
    "\n",
    "# Treino: datas mais antigas; Teste: datas mais recentes\n",
    "train_dates = unique_dates[:split_ix]\n",
    "test_dates = unique_dates[split_ix:]\n",
    "\n",
    "X_train = df_long_sorted[df_long_sorted['date'].isin(train_dates)][feature_cols]\n",
    "y_train = df_long_sorted[df_long_sorted['date'].isin(train_dates)]['target']\n",
    "\n",
    "X_test = df_long_sorted[df_long_sorted['date'].isin(test_dates)][feature_cols]\n",
    "y_test = df_long_sorted[df_long_sorted['date'].isin(test_dates)]['target']\n",
    "\n",
    "print(f\"Treino: X = {X_train.shape}, Teste: X = {X_test.shape}\")\n",
    "print(f\"Classes treino: {y_train.value_counts().to_dict()}\")\n",
    "print(f\"Classes teste: {y_test.value_counts().to_dict()}\")\n"
   ]
  },
  {
   "cell_type": "code",
   "execution_count": null,
   "id": "5cced6f2",
   "metadata": {},
   "outputs": [
    {
     "name": "stdout",
     "output_type": "stream",
     "text": [
      "Fitting 3 folds for each of 54 candidates, totalling 162 fits\n",
      "Melhores parâmetros: {'max_depth': 5, 'max_features': 'sqrt', 'min_samples_leaf': 20, 'n_estimators': 200}\n",
      "Melhor score de validação: 0.21597732597530891\n",
      "\n",
      "Acurácia no teste: 43.58%\n",
      "\n",
      "              precision    recall  f1-score   support\n",
      "\n",
      "         Cai       0.00      0.00      0.00       153\n",
      "   Cai muito       0.59      0.33      0.42       310\n",
      "    Na mesma       0.49      0.90      0.63       331\n",
      "        Sobe       0.00      0.00      0.00       127\n",
      "  Sobe muito       0.22      0.46      0.29       123\n",
      "\n",
      "    accuracy                           0.44      1044\n",
      "   macro avg       0.26      0.34      0.27      1044\n",
      "weighted avg       0.35      0.44      0.36      1044\n",
      "\n"
     ]
    },
    {
     "name": "stderr",
     "output_type": "stream",
     "text": [
      "C:\\Users\\renan\\AppData\\Local\\Packages\\PythonSoftwareFoundation.Python.3.12_qbz5n2kfra8p0\\LocalCache\\local-packages\\Python312\\site-packages\\sklearn\\metrics\\_classification.py:1565: UndefinedMetricWarning: Precision is ill-defined and being set to 0.0 in labels with no predicted samples. Use `zero_division` parameter to control this behavior.\n",
      "  _warn_prf(average, modifier, f\"{metric.capitalize()} is\", len(result))\n",
      "C:\\Users\\renan\\AppData\\Local\\Packages\\PythonSoftwareFoundation.Python.3.12_qbz5n2kfra8p0\\LocalCache\\local-packages\\Python312\\site-packages\\sklearn\\metrics\\_classification.py:1565: UndefinedMetricWarning: Precision is ill-defined and being set to 0.0 in labels with no predicted samples. Use `zero_division` parameter to control this behavior.\n",
      "  _warn_prf(average, modifier, f\"{metric.capitalize()} is\", len(result))\n",
      "C:\\Users\\renan\\AppData\\Local\\Packages\\PythonSoftwareFoundation.Python.3.12_qbz5n2kfra8p0\\LocalCache\\local-packages\\Python312\\site-packages\\sklearn\\metrics\\_classification.py:1565: UndefinedMetricWarning: Precision is ill-defined and being set to 0.0 in labels with no predicted samples. Use `zero_division` parameter to control this behavior.\n",
      "  _warn_prf(average, modifier, f\"{metric.capitalize()} is\", len(result))\n"
     ]
    }
   ],
   "source": [
    "from sklearn.ensemble import RandomForestClassifier\n",
    "from sklearn.model_selection import GridSearchCV\n",
    "from sklearn.metrics import classification_report, confusion_matrix, accuracy_score\n",
    "import matplotlib.pyplot as plt\n",
    "import pandas as pd\n",
    "import numpy as np\n",
    "\n",
    "RANDOM_STATE = 42\n",
    "\n",
    "# 1. Defina uma grade de hiperparâmetros\n",
    "param_grid = {\n",
    "    'n_estimators': [100, 200, 300],           # Tamanho da floresta\n",
    "    'max_depth': [5, 10, 20],            # Profundidade máxima\n",
    "    'min_samples_leaf': [5, 10, 20],           # Tamanho do nó mínimo\n",
    "    'max_features': ['sqrt', 'log2']     # Estratégia para features\n",
    "}\n",
    "\n",
    "# 2. classificador base\n",
    "rf = RandomForestClassifier(random_state=RANDOM_STATE, n_jobs=-1)\n",
    "\n",
    "# 3. Grid Search + validação cruzada\n",
    "clf_grid = GridSearchCV(\n",
    "    estimator=rf, \n",
    "    param_grid=param_grid, \n",
    "    scoring='accuracy', \n",
    "    n_jobs=-1, \n",
    "    cv=3,              # 5-fold cross-validation\n",
    "    verbose=2\n",
    ")\n",
    "\n",
    "# 4. Treinamento\n",
    "clf_grid.fit(X_train, y_train)\n",
    "\n",
    "# 5. Melhor combinação encontrada\n",
    "print('Melhores parâmetros:', clf_grid.best_params_)\n",
    "print('Melhor score de validação:', clf_grid.best_score_)\n",
    "\n",
    "# 6. melhor modelo direto\n",
    "best_rf = clf_grid.best_estimator_\n",
    "\n",
    "# 7. Avaliação no conjunto de teste\n",
    "y_pred = best_rf.predict(X_test)\n",
    "acc = accuracy_score(y_test, y_pred)\n",
    "print(f'\\nAcurácia no teste: {acc:.2%}\\n')\n",
    "print(classification_report(y_test, y_pred))\n"
   ]
  },
  {
   "cell_type": "markdown",
   "id": "baa96cf2",
   "metadata": {},
   "source": [
    "Os scores f1, recall e precision mostram:\n",
    "\n",
    "Na mesma:\n",
    "Precision: 0.49\n",
    "Recall: 0.90 (acertou quase todos os exemplos de “Na mesma”)\n",
    "Esse padrão é comum quando o modelo “foge” do risco e aposta nas classes mais frequentes/fáceis.\n",
    "\n",
    "Cai/Cai muito/Sobe/Sobe muito:\n",
    "Precision/Recall para “Cai” ou “Sobe” ficaram zerados (não acertou nenhum desses casos).\n",
    "\n",
    "Só “Cai muito” e “Sobe muito” têm precisão/recall razoável (~0.33-0.46), mas não são dominantes.\n",
    "“Sobe” sozinho:\n",
    "\n",
    "Zero em tudo — o modelo não consegue distinguir essa classe dos demais"
   ]
  },
  {
   "cell_type": "markdown",
   "id": "31a449c9",
   "metadata": {},
   "source": [
    "Macro média de f1-score só 0.27 — indica que o modelo não aprende bem todas as classes, mas acerta parcialmente as mais comuns."
   ]
  },
  {
   "cell_type": "markdown",
   "id": "40897824",
   "metadata": {},
   "source": [
    "Dataset desbalanceado:\n",
    "“Na mesma” é a classe majoritária ou a menos difícil de prever — modelo tende a acertar o que é mais frequente.\n",
    "Modelo conservador:\n",
    "Ao limitar maxdepth/minsamples_leaf, o modelo se torna mais “preguiçoso”: para de criar regras muito específicas e acerta só o óbvio.\n",
    "Problema difícil:\n",
    "Séries temporais, com 5 classes, geralmente têm performance por volta disso (acurácia 35~50%) antes de ajustes mais finos e tratamento especial de features/dados."
   ]
  },
  {
   "cell_type": "code",
   "execution_count": 6,
   "id": "87124e99",
   "metadata": {},
   "outputs": [
    {
     "data": {
      "image/png": "[encoded data removed]",
      "text/plain": [
       "<Figure size 600x500 with 2 Axes>"
      ]
     },
     "metadata": {},
     "output_type": "display_data"
    }
   ],
   "source": [
    "plt.figure(figsize=(6,5))\n",
    "cm = confusion_matrix(y_test, y_pred, labels=best_rf.classes_)\n",
    "cm_df = pd.DataFrame(cm, index=best_rf.classes_, columns=best_rf.classes_)\n",
    "sns.heatmap(cm_df, annot=True, fmt='d', cmap='Blues')\n",
    "plt.ylabel('Real')\n",
    "plt.xlabel('Previsto')\n",
    "plt.title('Matriz de Confusão - RandomForest')\n",
    "plt.show()"
   ]
  },
  {
   "cell_type": "markdown",
   "id": "a8f121bc",
   "metadata": {},
   "source": [
    "# TESTANDO MODELO"
   ]
  },
  {
   "cell_type": "code",
   "execution_count": null,
   "id": "80957580",
   "metadata": {},
   "outputs": [
    {
     "data": {
      "application/vnd.jupyter.widget-view+json": {
       "model_id": "6fd37cf04f434b88bb0c6c373305e371",
       "version_major": 2,
       "version_minor": 0
      },
      "text/plain": [
       "Dropdown(description='Data base:', index=260, layout=Layout(width='50%'), options=('2024-08-21', '2024-08-22',…"
      ]
     },
     "metadata": {},
     "output_type": "display_data"
    },
    {
     "data": {
      "application/vnd.jupyter.widget-view+json": {
       "model_id": "24537203cd5a413ca65d1383b7360965",
       "version_major": 2,
       "version_minor": 0
      },
      "text/plain": [
       "Output()"
      ]
     },
     "metadata": {},
     "output_type": "display_data"
    }
   ],
   "source": [
    "import ipywidgets as widgets\n",
    "from IPython.display import display, clear_output\n",
    "import pandas as pd\n",
    "\n",
    "# best_rf (modelo otimizado) nas funções\n",
    "clf = best_rf\n",
    "\n",
    "# Horizons disponíveis na base\n",
    "rel_horizons = [1, 5, 30, 90]\n",
    "\n",
    "# Datas testáveis disponíveis\n",
    "datas_teste = df_long_sorted.loc[X_test.index, 'date'].unique()\n",
    "unique_dates = sorted([str(d)[:10] for d in datas_teste])\n",
    "\n",
    "dropdown_data = widgets.Dropdown(\n",
    "    options=unique_dates,\n",
    "    value=unique_dates[-1],\n",
    "    description='Data base:',\n",
    "    style={'description_width': 'initial'},\n",
    "    layout=widgets.Layout(width='50%')\n",
    ")\n",
    "output = widgets.Output()\n",
    "\n",
    "#  pegar apenas [1,5,30,90] na data escolhida\n",
    "def previsao_tabela(clf, X, df_reference, y, date, rel_horizons):\n",
    "    y_pred_proba = clf.predict_proba(X)\n",
    "    y_pred = clf.predict(X)\n",
    "    proba_columns = [f'proba_{cls}' for cls in clf.classes_]\n",
    "    df_proba = pd.DataFrame(y_pred_proba, columns=proba_columns, index=X.index)\n",
    "    df_pred = X[['horizon']].copy()\n",
    "    df_pred['date'] = df_reference.loc[X.index, 'date']\n",
    "    df_pred['target_pred'] = y_pred\n",
    "    for col in proba_columns:\n",
    "        df_pred[col] = df_proba[col] * 100\n",
    "    if y is not None:\n",
    "        df_pred['target_true'] = y.values\n",
    "        display_cols = ['date', 'horizon', 'target_true', 'target_pred'] + proba_columns\n",
    "    else:\n",
    "        display_cols = ['date', 'horizon', 'target_pred'] + proba_columns\n",
    "    df_print = df_pred[display_cols]\n",
    "    # Filtro principal\n",
    "    df_print = df_print[df_print['date'].astype(str).str.startswith(str(date))]\n",
    "    df_print = df_print[df_print['horizon'].isin(rel_horizons)]\n",
    "    df_print = df_print.sort_values('horizon')\n",
    "    return df_print.reset_index(drop=True)\n",
    "\n",
    "def show_result():\n",
    "    with output:\n",
    "        clear_output()\n",
    "        data_escolhida = dropdown_data.value\n",
    "        tab = previsao_tabela(clf, X_test, df_long_sorted, y_test, data_escolhida, rel_horizons)\n",
    "        print(f\"Previsões para data base {data_escolhida}, horizons [1, 5, 30, 90]:\\n\")\n",
    "        if not tab.empty:\n",
    "            display(\n",
    "                tab[['horizon', 'target_true', 'target_pred'] +\n",
    "                    [col for col in tab.columns if col.startswith('proba_')]]\n",
    "                    .style.format({col:\"{:.1f}%\" for col in tab.columns if col.startswith('proba_')})\n",
    "                    .set_properties(**{'text-align': 'center'})\n",
    "                    .set_table_styles([{\"selector\": \"th\", \"props\": [(\"text-align\", \"center\")]}])\n",
    "            )\n",
    "            # Acurácia macro e explicação\n",
    "            acc_macro = (tab['target_true'] == tab['target_pred']).mean() if not tab.empty else 0\n",
    "            num_acertos = (tab['target_true'] == tab['target_pred']).sum()\n",
    "            num_total = len(tab)\n",
    "            print(f\"\\n🎯 **Acurácia macro nesta data:** {acc_macro:.2%} (Acertou {num_acertos} de {num_total})\")\n",
    "        else:\n",
    "            print(\"Sem previsão para essa data. Escolha outra data base.\")\n",
    "\n",
    "def on_change(change):\n",
    "    if change['type'] == 'change' and change['name'] == 'value':\n",
    "        show_result()\n",
    "dropdown_data.observe(on_change)\n",
    "display(dropdown_data, output)\n",
    "show_result()\n"
   ]
  },
  {
   "cell_type": "markdown",
   "id": "e907d1d8",
   "metadata": {},
   "source": [
    "# RANGE DE DATAS PARA TESTAR:\n",
    "\n",
    "2024-08-21 ATÉ NO MÁXIMO 2025-08-20 (HOJE); Obviamente, se for testar com os dias mais recentes dos dados, não vamos ter como saber se o modelo acertou mesmo. Por isso recomendo 90 dias a menos que 2025-08-20. (2025-05-22)"
   ]
  },
  {
   "cell_type": "code",
   "execution_count": 9,
   "id": "3fc2a4c9",
   "metadata": {},
   "outputs": [
    {
     "name": "stdout",
     "output_type": "stream",
     "text": [
      "MIN: 2024-08-21 00:00:00\n",
      "MAX: 2025-08-20 00:00:00\n",
      "[Timestamp('2024-08-21 00:00:00'), Timestamp('2024-08-22 00:00:00'), Timestamp('2024-08-23 00:00:00'), Timestamp('2024-08-26 00:00:00'), Timestamp('2024-08-27 00:00:00'), Timestamp('2024-08-28 00:00:00'), Timestamp('2024-08-29 00:00:00'), Timestamp('2024-08-30 00:00:00'), Timestamp('2024-09-02 00:00:00'), Timestamp('2024-09-03 00:00:00'), Timestamp('2024-09-04 00:00:00'), Timestamp('2024-09-05 00:00:00'), Timestamp('2024-09-06 00:00:00'), Timestamp('2024-09-09 00:00:00'), Timestamp('2024-09-10 00:00:00'), Timestamp('2024-09-11 00:00:00'), Timestamp('2024-09-12 00:00:00'), Timestamp('2024-09-13 00:00:00'), Timestamp('2024-09-16 00:00:00'), Timestamp('2024-09-17 00:00:00'), Timestamp('2024-09-18 00:00:00'), Timestamp('2024-09-19 00:00:00'), Timestamp('2024-09-20 00:00:00'), Timestamp('2024-09-23 00:00:00'), Timestamp('2024-09-24 00:00:00'), Timestamp('2024-09-25 00:00:00'), Timestamp('2024-09-26 00:00:00'), Timestamp('2024-09-27 00:00:00'), Timestamp('2024-09-30 00:00:00'), Timestamp('2024-10-01 00:00:00'), Timestamp('2024-10-02 00:00:00'), Timestamp('2024-10-03 00:00:00'), Timestamp('2024-10-04 00:00:00'), Timestamp('2024-10-07 00:00:00'), Timestamp('2024-10-08 00:00:00'), Timestamp('2024-10-09 00:00:00'), Timestamp('2024-10-10 00:00:00'), Timestamp('2024-10-11 00:00:00'), Timestamp('2024-10-14 00:00:00'), Timestamp('2024-10-15 00:00:00'), Timestamp('2024-10-16 00:00:00'), Timestamp('2024-10-17 00:00:00'), Timestamp('2024-10-18 00:00:00'), Timestamp('2024-10-21 00:00:00'), Timestamp('2024-10-22 00:00:00'), Timestamp('2024-10-23 00:00:00'), Timestamp('2024-10-24 00:00:00'), Timestamp('2024-10-25 00:00:00'), Timestamp('2024-10-28 00:00:00'), Timestamp('2024-10-29 00:00:00'), Timestamp('2024-10-30 00:00:00'), Timestamp('2024-10-31 00:00:00'), Timestamp('2024-11-01 00:00:00'), Timestamp('2024-11-04 00:00:00'), Timestamp('2024-11-05 00:00:00'), Timestamp('2024-11-06 00:00:00'), Timestamp('2024-11-07 00:00:00'), Timestamp('2024-11-08 00:00:00'), Timestamp('2024-11-11 00:00:00'), Timestamp('2024-11-12 00:00:00'), Timestamp('2024-11-13 00:00:00'), Timestamp('2024-11-14 00:00:00'), Timestamp('2024-11-15 00:00:00'), Timestamp('2024-11-18 00:00:00'), Timestamp('2024-11-19 00:00:00'), Timestamp('2024-11-20 00:00:00'), Timestamp('2024-11-21 00:00:00'), Timestamp('2024-11-22 00:00:00'), Timestamp('2024-11-25 00:00:00'), Timestamp('2024-11-26 00:00:00'), Timestamp('2024-11-27 00:00:00'), Timestamp('2024-11-28 00:00:00'), Timestamp('2024-11-29 00:00:00'), Timestamp('2024-12-02 00:00:00'), Timestamp('2024-12-03 00:00:00'), Timestamp('2024-12-04 00:00:00'), Timestamp('2024-12-05 00:00:00'), Timestamp('2024-12-06 00:00:00'), Timestamp('2024-12-09 00:00:00'), Timestamp('2024-12-10 00:00:00'), Timestamp('2024-12-11 00:00:00'), Timestamp('2024-12-12 00:00:00'), Timestamp('2024-12-13 00:00:00'), Timestamp('2024-12-16 00:00:00'), Timestamp('2024-12-17 00:00:00'), Timestamp('2024-12-18 00:00:00'), Timestamp('2024-12-19 00:00:00'), Timestamp('2024-12-20 00:00:00'), Timestamp('2024-12-23 00:00:00'), Timestamp('2024-12-24 00:00:00'), Timestamp('2024-12-25 00:00:00'), Timestamp('2024-12-26 00:00:00'), Timestamp('2024-12-27 00:00:00'), Timestamp('2024-12-30 00:00:00'), Timestamp('2024-12-31 00:00:00'), Timestamp('2025-01-01 00:00:00'), Timestamp('2025-01-02 00:00:00'), Timestamp('2025-01-03 00:00:00'), Timestamp('2025-01-06 00:00:00'), Timestamp('2025-01-07 00:00:00'), Timestamp('2025-01-08 00:00:00'), Timestamp('2025-01-09 00:00:00'), Timestamp('2025-01-10 00:00:00'), Timestamp('2025-01-13 00:00:00'), Timestamp('2025-01-14 00:00:00'), Timestamp('2025-01-15 00:00:00'), Timestamp('2025-01-16 00:00:00'), Timestamp('2025-01-17 00:00:00'), Timestamp('2025-01-20 00:00:00'), Timestamp('2025-01-21 00:00:00'), Timestamp('2025-01-22 00:00:00'), Timestamp('2025-01-23 00:00:00'), Timestamp('2025-01-24 00:00:00'), Timestamp('2025-01-27 00:00:00'), Timestamp('2025-01-28 00:00:00'), Timestamp('2025-01-29 00:00:00'), Timestamp('2025-01-30 00:00:00'), Timestamp('2025-01-31 00:00:00'), Timestamp('2025-02-01 00:00:00'), Timestamp('2025-02-03 00:00:00'), Timestamp('2025-02-04 00:00:00'), Timestamp('2025-02-05 00:00:00'), Timestamp('2025-02-06 00:00:00'), Timestamp('2025-02-07 00:00:00'), Timestamp('2025-02-10 00:00:00'), Timestamp('2025-02-11 00:00:00'), Timestamp('2025-02-12 00:00:00'), Timestamp('2025-02-13 00:00:00'), Timestamp('2025-02-14 00:00:00'), Timestamp('2025-02-17 00:00:00'), Timestamp('2025-02-18 00:00:00'), Timestamp('2025-02-19 00:00:00'), Timestamp('2025-02-20 00:00:00'), Timestamp('2025-02-21 00:00:00'), Timestamp('2025-02-24 00:00:00'), Timestamp('2025-02-25 00:00:00'), Timestamp('2025-02-26 00:00:00'), Timestamp('2025-02-27 00:00:00'), Timestamp('2025-02-28 00:00:00'), Timestamp('2025-03-03 00:00:00'), Timestamp('2025-03-04 00:00:00'), Timestamp('2025-03-05 00:00:00'), Timestamp('2025-03-06 00:00:00'), Timestamp('2025-03-07 00:00:00'), Timestamp('2025-03-10 00:00:00'), Timestamp('2025-03-11 00:00:00'), Timestamp('2025-03-12 00:00:00'), Timestamp('2025-03-13 00:00:00'), Timestamp('2025-03-14 00:00:00'), Timestamp('2025-03-17 00:00:00'), Timestamp('2025-03-18 00:00:00'), Timestamp('2025-03-19 00:00:00'), Timestamp('2025-03-20 00:00:00'), Timestamp('2025-03-21 00:00:00'), Timestamp('2025-03-24 00:00:00'), Timestamp('2025-03-25 00:00:00'), Timestamp('2025-03-26 00:00:00'), Timestamp('2025-03-27 00:00:00'), Timestamp('2025-03-28 00:00:00'), Timestamp('2025-03-31 00:00:00'), Timestamp('2025-04-01 00:00:00'), Timestamp('2025-04-02 00:00:00'), Timestamp('2025-04-03 00:00:00'), Timestamp('2025-04-04 00:00:00'), Timestamp('2025-04-07 00:00:00'), Timestamp('2025-04-08 00:00:00'), Timestamp('2025-04-09 00:00:00'), Timestamp('2025-04-10 00:00:00'), Timestamp('2025-04-11 00:00:00'), Timestamp('2025-04-14 00:00:00'), Timestamp('2025-04-15 00:00:00'), Timestamp('2025-04-16 00:00:00'), Timestamp('2025-04-17 00:00:00'), Timestamp('2025-04-21 00:00:00'), Timestamp('2025-04-22 00:00:00'), Timestamp('2025-04-23 00:00:00'), Timestamp('2025-04-24 00:00:00'), Timestamp('2025-04-25 00:00:00'), Timestamp('2025-04-28 00:00:00'), Timestamp('2025-04-29 00:00:00'), Timestamp('2025-04-30 00:00:00'), Timestamp('2025-05-01 00:00:00'), Timestamp('2025-05-02 00:00:00'), Timestamp('2025-05-05 00:00:00'), Timestamp('2025-05-06 00:00:00'), Timestamp('2025-05-07 00:00:00'), Timestamp('2025-05-08 00:00:00'), Timestamp('2025-05-09 00:00:00'), Timestamp('2025-05-12 00:00:00'), Timestamp('2025-05-13 00:00:00'), Timestamp('2025-05-14 00:00:00'), Timestamp('2025-05-15 00:00:00'), Timestamp('2025-05-16 00:00:00'), Timestamp('2025-05-19 00:00:00'), Timestamp('2025-05-20 00:00:00'), Timestamp('2025-05-21 00:00:00'), Timestamp('2025-05-22 00:00:00'), Timestamp('2025-05-23 00:00:00'), Timestamp('2025-05-26 00:00:00'), Timestamp('2025-05-27 00:00:00'), Timestamp('2025-05-28 00:00:00'), Timestamp('2025-05-29 00:00:00'), Timestamp('2025-05-30 00:00:00'), Timestamp('2025-06-02 00:00:00'), Timestamp('2025-06-03 00:00:00'), Timestamp('2025-06-04 00:00:00'), Timestamp('2025-06-05 00:00:00'), Timestamp('2025-06-06 00:00:00'), Timestamp('2025-06-09 00:00:00'), Timestamp('2025-06-10 00:00:00'), Timestamp('2025-06-11 00:00:00'), Timestamp('2025-06-12 00:00:00'), Timestamp('2025-06-13 00:00:00'), Timestamp('2025-06-16 00:00:00'), Timestamp('2025-06-17 00:00:00'), Timestamp('2025-06-18 00:00:00'), Timestamp('2025-06-19 00:00:00'), Timestamp('2025-06-20 00:00:00'), Timestamp('2025-06-23 00:00:00'), Timestamp('2025-06-24 00:00:00'), Timestamp('2025-06-25 00:00:00'), Timestamp('2025-06-26 00:00:00'), Timestamp('2025-06-27 00:00:00'), Timestamp('2025-06-30 00:00:00'), Timestamp('2025-07-01 00:00:00'), Timestamp('2025-07-02 00:00:00'), Timestamp('2025-07-03 00:00:00'), Timestamp('2025-07-04 00:00:00'), Timestamp('2025-07-07 00:00:00'), Timestamp('2025-07-08 00:00:00'), Timestamp('2025-07-09 00:00:00'), Timestamp('2025-07-10 00:00:00'), Timestamp('2025-07-11 00:00:00'), Timestamp('2025-07-14 00:00:00'), Timestamp('2025-07-15 00:00:00'), Timestamp('2025-07-16 00:00:00'), Timestamp('2025-07-17 00:00:00'), Timestamp('2025-07-18 00:00:00'), Timestamp('2025-07-21 00:00:00'), Timestamp('2025-07-22 00:00:00'), Timestamp('2025-07-23 00:00:00'), Timestamp('2025-07-24 00:00:00'), Timestamp('2025-07-25 00:00:00'), Timestamp('2025-07-28 00:00:00'), Timestamp('2025-07-29 00:00:00'), Timestamp('2025-07-30 00:00:00'), Timestamp('2025-07-31 00:00:00'), Timestamp('2025-08-01 00:00:00'), Timestamp('2025-08-04 00:00:00'), Timestamp('2025-08-05 00:00:00'), Timestamp('2025-08-06 00:00:00'), Timestamp('2025-08-07 00:00:00'), Timestamp('2025-08-08 00:00:00'), Timestamp('2025-08-11 00:00:00'), Timestamp('2025-08-12 00:00:00'), Timestamp('2025-08-13 00:00:00'), Timestamp('2025-08-14 00:00:00'), Timestamp('2025-08-15 00:00:00'), Timestamp('2025-08-18 00:00:00'), Timestamp('2025-08-19 00:00:00'), Timestamp('2025-08-20 00:00:00')]\n"
     ]
    }
   ],
   "source": [
    "# Pegue as datas de teste pelo índice no df_long_sorted\n",
    "datas_teste = df_long_sorted.loc[X_test.index, 'date']\n",
    "\n",
    "print(\"MIN:\", datas_teste.min())\n",
    "print(\"MAX:\", datas_teste.max())\n",
    "\n",
    "# Para ver todas disponíveis:\n",
    "print(sorted(datas_teste.unique()))\n"
   ]
  },
  {
   "cell_type": "code",
   "execution_count": 11,
   "id": "d9878e18",
   "metadata": {},
   "outputs": [
    {
     "name": "stdout",
     "output_type": "stream",
     "text": [
      "Top 15 features mais importantes:\n",
      "                        Importância (Gini)\n",
      "horizon                             0.1511\n",
      "dxy_min21                           0.0190\n",
      "dxy                                 0.0184\n",
      "dxy_lag1                            0.0154\n",
      "dxy_ma10                            0.0149\n",
      "dxy_ma21                            0.0144\n",
      "steel_max21                         0.0141\n",
      "dxy_min5                            0.0126\n",
      "dxy_lag3                            0.0126\n",
      "dxy_max21                           0.0125\n",
      "dxy_lag5                            0.0115\n",
      "century_aluminum_min21              0.0110\n",
      "aluminum_minus_lead                 0.0108\n",
      "dxy_max5                            0.0107\n",
      "steel_max5                          0.0106\n"
     ]
    },
    {
     "data": {
      "image/png": "[encoded data removed]",
      "text/plain": [
       "<Figure size 800x600 with 1 Axes>"
      ]
     },
     "metadata": {},
     "output_type": "display_data"
    }
   ],
   "source": [
    "importances = pd.Series(best_rf.feature_importances_, index=X_train.columns)\n",
    "importances = importances.sort_values(ascending=False)\n",
    "\n",
    "# Imprime as 15 features mais importantes com a importância já formatada\n",
    "print(\"Top 15 features mais importantes:\")\n",
    "print(importances.head(15).to_frame(\"Importância (Gini)\").round(4))\n",
    "\n",
    "# Gráfico das 15 principais\n",
    "plt.figure(figsize=(8, 6))\n",
    "importances.head(15).plot(kind='bar')\n",
    "plt.title('Top 15 Features Mais Importantes')\n",
    "plt.ylabel('Importância (Gini)')\n",
    "plt.grid(True, axis='y', linestyle='--', alpha=0.7)\n",
    "plt.show()\n"
   ]
  },
  {
   "cell_type": "markdown",
   "id": "b7f137fb",
   "metadata": {},
   "source": [
    "## Desbalanceamento existe, mas não é absurdo\n",
    "\n",
    "### Modelo único não capta peculiaridades!\n",
    "\n",
    "### Distribuição de classes é altamente dependente do horizon.\n",
    "\n",
    "o padrão das classes muda radicalmente de acordo com o prazo analisado. Solução: 1 modelo pra cada"
   ]
  },
  {
   "cell_type": "code",
   "execution_count": null,
   "id": "fae30d27",
   "metadata": {},
   "outputs": [
    {
     "name": "stdout",
     "output_type": "stream",
     "text": [
      "Distribuição geral das classes (todas os horizontes):\n",
      "target\n",
      "Na mesma      1494\n",
      "Sobe muito    1208\n",
      "Cai muito     1039\n",
      "Sobe           747\n",
      "Cai            728\n",
      "Name: count, dtype: int64\n",
      "\n",
      "Proporção geral das classes:\n",
      "target\n",
      "Na mesma      28.64%\n",
      "Sobe muito    23.16%\n",
      "Cai muito     19.92%\n",
      "Sobe          14.32%\n",
      "Cai           13.96%\n",
      "Name: proportion, dtype: object\n",
      "\n",
      "Distribuição das classes por horizon:\n",
      "target   Cai  Cai muito  Na mesma  Sobe  Sobe muito\n",
      "horizon                                            \n",
      "1        186          9       873   226          10\n",
      "5        295        110       439   305         155\n",
      "30       171        383       134   143         473\n",
      "90        76        537        48    73         570\n"
     ]
    },
    {
     "data": {
      "image/png": "[encoded data removed]",
      "text/plain": [
       "<Figure size 1000x600 with 1 Axes>"
      ]
     },
     "metadata": {},
     "output_type": "display_data"
    },
    {
     "data": {
      "image/png": "[encoded data removed]",
      "text/plain": [
       "<Figure size 1000x600 with 1 Axes>"
      ]
     },
     "metadata": {},
     "output_type": "display_data"
    }
   ],
   "source": [
    "import pandas as pd\n",
    "import matplotlib.pyplot as plt\n",
    "\n",
    "# Garante compatibilidade, e colunas\n",
    "# (df_long é seu DataFrame principal)\n",
    "\n",
    "# 1. Value counts geral\n",
    "print(\"Distribuição geral das classes (todas os horizontes):\")\n",
    "print(df_long['target'].value_counts())\n",
    "print(\"\\nProporção geral das classes:\")\n",
    "print((df_long['target'].value_counts(normalize=True) * 100).round(2).astype(str) + '%')\n",
    "\n",
    "# 2. Value counts por horizon\n",
    "print(\"\\nDistribuição das classes por horizon:\")\n",
    "counts_per_horizon = df_long.groupby('horizon')['target'].value_counts().unstack().fillna(0)\n",
    "print(counts_per_horizon.astype(int))\n",
    "\n",
    "# 3. Gráfico: Classes por horizon (absoluto)\n",
    "fig, ax = plt.subplots(figsize=(10, 6))\n",
    "counts_per_horizon.plot(kind='bar', stacked=True, ax=ax)\n",
    "plt.title(\"Distribuição absoluta das classes por horizon\")\n",
    "plt.ylabel(\"Número de exemplos\")\n",
    "plt.xlabel(\"Horizon\")\n",
    "plt.legend(title=\"Classe\", bbox_to_anchor=(1.05, 1), loc='upper left')\n",
    "plt.tight_layout()\n",
    "plt.show()\n",
    "\n",
    "# 4. Gráfico: Classes por horizon (proporcional)\n",
    "fig, ax = plt.subplots(figsize=(10, 6))\n",
    "prop_per_horizon = counts_per_horizon.div(counts_per_horizon.sum(axis=1), axis=0)\n",
    "prop_per_horizon.plot(kind='bar', stacked=True, ax=ax)\n",
    "plt.title(\"Distribuição percentual das classes por horizon\")\n",
    "plt.ylabel(\"Proporção\")\n",
    "plt.xlabel(\"Horizon\")\n",
    "plt.legend(title=\"Classe\", bbox_to_anchor=(1.05, 1), loc='upper left')\n",
    "plt.tight_layout()\n",
    "plt.show()\n"
   ]
  },
  {
   "cell_type": "markdown",
   "id": "4a9b8c75",
   "metadata": {},
   "source": [
    "# Abordagem 1 modelo pra cada: Versão simples antes de refinar."
   ]
  },
  {
   "cell_type": "code",
   "execution_count": null,
   "id": "7d6dd367",
   "metadata": {},
   "outputs": [
    {
     "name": "stdout",
     "output_type": "stream",
     "text": [
      "==================================================\n",
      ">>> HORIZON: 1 <<<\n",
      "Treino: X = (1043, 532), Teste: X = (261, 532)\n",
      "Classes treino: {'Na mesma': 685, 'Sobe': 186, 'Cai': 156, 'Sobe muito': 9, 'Cai muito': 7}\n",
      "Classes teste: {'Na mesma': 188, 'Sobe': 40, 'Cai': 30, 'Cai muito': 2, 'Sobe muito': 1}\n",
      "Fitting 3 folds for each of 54 candidates, totalling 162 fits\n"
     ]
    },
    {
     "name": "stderr",
     "output_type": "stream",
     "text": [
      "C:\\Users\\renan\\AppData\\Local\\Packages\\PythonSoftwareFoundation.Python.3.12_qbz5n2kfra8p0\\LocalCache\\local-packages\\Python312\\site-packages\\sklearn\\metrics\\_classification.py:1565: UndefinedMetricWarning: Precision is ill-defined and being set to 0.0 in labels with no predicted samples. Use `zero_division` parameter to control this behavior.\n",
      "  _warn_prf(average, modifier, f\"{metric.capitalize()} is\", len(result))\n",
      "C:\\Users\\renan\\AppData\\Local\\Packages\\PythonSoftwareFoundation.Python.3.12_qbz5n2kfra8p0\\LocalCache\\local-packages\\Python312\\site-packages\\sklearn\\metrics\\_classification.py:1565: UndefinedMetricWarning: Precision is ill-defined and being set to 0.0 in labels with no predicted samples. Use `zero_division` parameter to control this behavior.\n",
      "  _warn_prf(average, modifier, f\"{metric.capitalize()} is\", len(result))\n",
      "C:\\Users\\renan\\AppData\\Local\\Packages\\PythonSoftwareFoundation.Python.3.12_qbz5n2kfra8p0\\LocalCache\\local-packages\\Python312\\site-packages\\sklearn\\metrics\\_classification.py:1565: UndefinedMetricWarning: Precision is ill-defined and being set to 0.0 in labels with no predicted samples. Use `zero_division` parameter to control this behavior.\n",
      "  _warn_prf(average, modifier, f\"{metric.capitalize()} is\", len(result))\n",
      "C:\\Users\\renan\\AppData\\Local\\Packages\\PythonSoftwareFoundation.Python.3.12_qbz5n2kfra8p0\\LocalCache\\local-packages\\Python312\\site-packages\\sklearn\\metrics\\_classification.py:1565: UndefinedMetricWarning: Precision is ill-defined and being set to 0.0 in labels with no predicted samples. Use `zero_division` parameter to control this behavior.\n",
      "  _warn_prf(average, modifier, f\"{metric.capitalize()} is\", len(result))\n",
      "C:\\Users\\renan\\AppData\\Local\\Packages\\PythonSoftwareFoundation.Python.3.12_qbz5n2kfra8p0\\LocalCache\\local-packages\\Python312\\site-packages\\sklearn\\metrics\\_classification.py:1565: UndefinedMetricWarning: Precision is ill-defined and being set to 0.0 in labels with no predicted samples. Use `zero_division` parameter to control this behavior.\n",
      "  _warn_prf(average, modifier, f\"{metric.capitalize()} is\", len(result))\n",
      "C:\\Users\\renan\\AppData\\Local\\Packages\\PythonSoftwareFoundation.Python.3.12_qbz5n2kfra8p0\\LocalCache\\local-packages\\Python312\\site-packages\\sklearn\\metrics\\_classification.py:1565: UndefinedMetricWarning: Precision is ill-defined and being set to 0.0 in labels with no predicted samples. Use `zero_division` parameter to control this behavior.\n",
      "  _warn_prf(average, modifier, f\"{metric.capitalize()} is\", len(result))\n"
     ]
    },
    {
     "name": "stdout",
     "output_type": "stream",
     "text": [
      "Melhores parâmetros: {'max_depth': 20, 'max_features': 'log2', 'min_samples_leaf': 5, 'n_estimators': 100}\n",
      "Acurácia: 0.709\n",
      "              precision    recall  f1-score   support\n",
      "\n",
      "         Cai       0.17      0.03      0.06        30\n",
      "   Cai muito       0.00      0.00      0.00         2\n",
      "    Na mesma       0.73      0.96      0.83       188\n",
      "        Sobe       0.38      0.07      0.12        40\n",
      "  Sobe muito       0.00      0.00      0.00         1\n",
      "\n",
      "    accuracy                           0.71       261\n",
      "   macro avg       0.25      0.21      0.20       261\n",
      "weighted avg       0.60      0.71      0.62       261\n",
      "\n",
      "==================================================\n",
      ">>> HORIZON: 5 <<<\n",
      "Treino: X = (1043, 532), Teste: X = (261, 532)\n",
      "Classes treino: {'Na mesma': 337, 'Sobe': 255, 'Cai': 233, 'Sobe muito': 130, 'Cai muito': 88}\n",
      "Classes teste: {'Na mesma': 102, 'Cai': 62, 'Sobe': 50, 'Sobe muito': 25, 'Cai muito': 22}\n",
      "Fitting 3 folds for each of 54 candidates, totalling 162 fits\n"
     ]
    },
    {
     "name": "stderr",
     "output_type": "stream",
     "text": [
      "C:\\Users\\renan\\AppData\\Local\\Packages\\PythonSoftwareFoundation.Python.3.12_qbz5n2kfra8p0\\LocalCache\\local-packages\\Python312\\site-packages\\sklearn\\metrics\\_classification.py:1565: UndefinedMetricWarning: Precision is ill-defined and being set to 0.0 in labels with no predicted samples. Use `zero_division` parameter to control this behavior.\n",
      "  _warn_prf(average, modifier, f\"{metric.capitalize()} is\", len(result))\n",
      "C:\\Users\\renan\\AppData\\Local\\Packages\\PythonSoftwareFoundation.Python.3.12_qbz5n2kfra8p0\\LocalCache\\local-packages\\Python312\\site-packages\\sklearn\\metrics\\_classification.py:1565: UndefinedMetricWarning: Precision is ill-defined and being set to 0.0 in labels with no predicted samples. Use `zero_division` parameter to control this behavior.\n",
      "  _warn_prf(average, modifier, f\"{metric.capitalize()} is\", len(result))\n",
      "C:\\Users\\renan\\AppData\\Local\\Packages\\PythonSoftwareFoundation.Python.3.12_qbz5n2kfra8p0\\LocalCache\\local-packages\\Python312\\site-packages\\sklearn\\metrics\\_classification.py:1565: UndefinedMetricWarning: Precision is ill-defined and being set to 0.0 in labels with no predicted samples. Use `zero_division` parameter to control this behavior.\n",
      "  _warn_prf(average, modifier, f\"{metric.capitalize()} is\", len(result))\n",
      "C:\\Users\\renan\\AppData\\Local\\Packages\\PythonSoftwareFoundation.Python.3.12_qbz5n2kfra8p0\\LocalCache\\local-packages\\Python312\\site-packages\\sklearn\\metrics\\_classification.py:1565: UndefinedMetricWarning: Precision is ill-defined and being set to 0.0 in labels with no predicted samples. Use `zero_division` parameter to control this behavior.\n",
      "  _warn_prf(average, modifier, f\"{metric.capitalize()} is\", len(result))\n",
      "C:\\Users\\renan\\AppData\\Local\\Packages\\PythonSoftwareFoundation.Python.3.12_qbz5n2kfra8p0\\LocalCache\\local-packages\\Python312\\site-packages\\sklearn\\metrics\\_classification.py:1565: UndefinedMetricWarning: Precision is ill-defined and being set to 0.0 in labels with no predicted samples. Use `zero_division` parameter to control this behavior.\n",
      "  _warn_prf(average, modifier, f\"{metric.capitalize()} is\", len(result))\n",
      "C:\\Users\\renan\\AppData\\Local\\Packages\\PythonSoftwareFoundation.Python.3.12_qbz5n2kfra8p0\\LocalCache\\local-packages\\Python312\\site-packages\\sklearn\\metrics\\_classification.py:1565: UndefinedMetricWarning: Precision is ill-defined and being set to 0.0 in labels with no predicted samples. Use `zero_division` parameter to control this behavior.\n",
      "  _warn_prf(average, modifier, f\"{metric.capitalize()} is\", len(result))\n"
     ]
    },
    {
     "name": "stdout",
     "output_type": "stream",
     "text": [
      "Melhores parâmetros: {'max_depth': 5, 'max_features': 'log2', 'min_samples_leaf': 10, 'n_estimators': 100}\n",
      "Acurácia: 0.222\n",
      "              precision    recall  f1-score   support\n",
      "\n",
      "         Cai       0.24      0.69      0.35        62\n",
      "   Cai muito       0.00      0.00      0.00        22\n",
      "    Na mesma       0.00      0.00      0.00       102\n",
      "        Sobe       0.20      0.24      0.22        50\n",
      "  Sobe muito       0.18      0.12      0.14        25\n",
      "\n",
      "    accuracy                           0.22       261\n",
      "   macro avg       0.12      0.21      0.14       261\n",
      "weighted avg       0.11      0.22      0.14       261\n",
      "\n",
      "==================================================\n",
      ">>> HORIZON: 30 <<<\n",
      "Treino: X = (1043, 532), Teste: X = (261, 532)\n",
      "Classes treino: {'Sobe muito': 406, 'Cai muito': 291, 'Cai': 136, 'Sobe': 108, 'Na mesma': 102}\n",
      "Classes teste: {'Cai muito': 92, 'Sobe muito': 67, 'Sobe': 35, 'Cai': 35, 'Na mesma': 32}\n",
      "Fitting 3 folds for each of 54 candidates, totalling 162 fits\n"
     ]
    },
    {
     "name": "stderr",
     "output_type": "stream",
     "text": [
      "C:\\Users\\renan\\AppData\\Local\\Packages\\PythonSoftwareFoundation.Python.3.12_qbz5n2kfra8p0\\LocalCache\\local-packages\\Python312\\site-packages\\sklearn\\metrics\\_classification.py:1565: UndefinedMetricWarning: Precision is ill-defined and being set to 0.0 in labels with no predicted samples. Use `zero_division` parameter to control this behavior.\n",
      "  _warn_prf(average, modifier, f\"{metric.capitalize()} is\", len(result))\n",
      "C:\\Users\\renan\\AppData\\Local\\Packages\\PythonSoftwareFoundation.Python.3.12_qbz5n2kfra8p0\\LocalCache\\local-packages\\Python312\\site-packages\\sklearn\\metrics\\_classification.py:1565: UndefinedMetricWarning: Precision is ill-defined and being set to 0.0 in labels with no predicted samples. Use `zero_division` parameter to control this behavior.\n",
      "  _warn_prf(average, modifier, f\"{metric.capitalize()} is\", len(result))\n",
      "C:\\Users\\renan\\AppData\\Local\\Packages\\PythonSoftwareFoundation.Python.3.12_qbz5n2kfra8p0\\LocalCache\\local-packages\\Python312\\site-packages\\sklearn\\metrics\\_classification.py:1565: UndefinedMetricWarning: Precision is ill-defined and being set to 0.0 in labels with no predicted samples. Use `zero_division` parameter to control this behavior.\n",
      "  _warn_prf(average, modifier, f\"{metric.capitalize()} is\", len(result))\n",
      "C:\\Users\\renan\\AppData\\Local\\Packages\\PythonSoftwareFoundation.Python.3.12_qbz5n2kfra8p0\\LocalCache\\local-packages\\Python312\\site-packages\\sklearn\\metrics\\_classification.py:1565: UndefinedMetricWarning: Precision is ill-defined and being set to 0.0 in labels with no predicted samples. Use `zero_division` parameter to control this behavior.\n",
      "  _warn_prf(average, modifier, f\"{metric.capitalize()} is\", len(result))\n",
      "C:\\Users\\renan\\AppData\\Local\\Packages\\PythonSoftwareFoundation.Python.3.12_qbz5n2kfra8p0\\LocalCache\\local-packages\\Python312\\site-packages\\sklearn\\metrics\\_classification.py:1565: UndefinedMetricWarning: Precision is ill-defined and being set to 0.0 in labels with no predicted samples. Use `zero_division` parameter to control this behavior.\n",
      "  _warn_prf(average, modifier, f\"{metric.capitalize()} is\", len(result))\n",
      "C:\\Users\\renan\\AppData\\Local\\Packages\\PythonSoftwareFoundation.Python.3.12_qbz5n2kfra8p0\\LocalCache\\local-packages\\Python312\\site-packages\\sklearn\\metrics\\_classification.py:1565: UndefinedMetricWarning: Precision is ill-defined and being set to 0.0 in labels with no predicted samples. Use `zero_division` parameter to control this behavior.\n",
      "  _warn_prf(average, modifier, f\"{metric.capitalize()} is\", len(result))\n"
     ]
    },
    {
     "name": "stdout",
     "output_type": "stream",
     "text": [
      "Melhores parâmetros: {'max_depth': 5, 'max_features': 'sqrt', 'min_samples_leaf': 20, 'n_estimators': 100}\n",
      "Acurácia: 0.284\n",
      "              precision    recall  f1-score   support\n",
      "\n",
      "         Cai       0.00      0.00      0.00        35\n",
      "   Cai muito       0.42      0.27      0.33        92\n",
      "    Na mesma       0.00      0.00      0.00        32\n",
      "        Sobe       0.00      0.00      0.00        35\n",
      "  Sobe muito       0.24      0.73      0.37        67\n",
      "\n",
      "    accuracy                           0.28       261\n",
      "   macro avg       0.13      0.20      0.14       261\n",
      "weighted avg       0.21      0.28      0.21       261\n",
      "\n",
      "==================================================\n",
      ">>> HORIZON: 90 <<<\n",
      "Treino: X = (1043, 532), Teste: X = (261, 532)\n",
      "Classes treino: {'Sobe muito': 540, 'Cai muito': 343, 'Sobe': 71, 'Cai': 50, 'Na mesma': 39}\n",
      "Classes teste: {'Cai muito': 194, 'Sobe muito': 30, 'Cai': 26, 'Na mesma': 9, 'Sobe': 2}\n",
      "Fitting 3 folds for each of 54 candidates, totalling 162 fits\n",
      "Melhores parâmetros: {'max_depth': 20, 'max_features': 'log2', 'min_samples_leaf': 5, 'n_estimators': 100}\n",
      "Acurácia: 0.115\n",
      "              precision    recall  f1-score   support\n",
      "\n",
      "         Cai       0.00      0.00      0.00        26\n",
      "   Cai muito       0.00      0.00      0.00       194\n",
      "    Na mesma       0.00      0.00      0.00         9\n",
      "        Sobe       0.00      0.00      0.00         2\n",
      "  Sobe muito       0.15      1.00      0.25        30\n",
      "\n",
      "    accuracy                           0.11       261\n",
      "   macro avg       0.03      0.20      0.05       261\n",
      "weighted avg       0.02      0.11      0.03       261\n",
      "\n",
      "Resumo métricas por horizon:\n"
     ]
    },
    {
     "name": "stderr",
     "output_type": "stream",
     "text": [
      "C:\\Users\\renan\\AppData\\Local\\Packages\\PythonSoftwareFoundation.Python.3.12_qbz5n2kfra8p0\\LocalCache\\local-packages\\Python312\\site-packages\\sklearn\\metrics\\_classification.py:1565: UndefinedMetricWarning: Precision is ill-defined and being set to 0.0 in labels with no predicted samples. Use `zero_division` parameter to control this behavior.\n",
      "  _warn_prf(average, modifier, f\"{metric.capitalize()} is\", len(result))\n",
      "C:\\Users\\renan\\AppData\\Local\\Packages\\PythonSoftwareFoundation.Python.3.12_qbz5n2kfra8p0\\LocalCache\\local-packages\\Python312\\site-packages\\sklearn\\metrics\\_classification.py:1565: UndefinedMetricWarning: Precision is ill-defined and being set to 0.0 in labels with no predicted samples. Use `zero_division` parameter to control this behavior.\n",
      "  _warn_prf(average, modifier, f\"{metric.capitalize()} is\", len(result))\n",
      "C:\\Users\\renan\\AppData\\Local\\Packages\\PythonSoftwareFoundation.Python.3.12_qbz5n2kfra8p0\\LocalCache\\local-packages\\Python312\\site-packages\\sklearn\\metrics\\_classification.py:1565: UndefinedMetricWarning: Precision is ill-defined and being set to 0.0 in labels with no predicted samples. Use `zero_division` parameter to control this behavior.\n",
      "  _warn_prf(average, modifier, f\"{metric.capitalize()} is\", len(result))\n",
      "C:\\Users\\renan\\AppData\\Local\\Packages\\PythonSoftwareFoundation.Python.3.12_qbz5n2kfra8p0\\LocalCache\\local-packages\\Python312\\site-packages\\sklearn\\metrics\\_classification.py:1565: UndefinedMetricWarning: Precision is ill-defined and being set to 0.0 in labels with no predicted samples. Use `zero_division` parameter to control this behavior.\n",
      "  _warn_prf(average, modifier, f\"{metric.capitalize()} is\", len(result))\n",
      "C:\\Users\\renan\\AppData\\Local\\Packages\\PythonSoftwareFoundation.Python.3.12_qbz5n2kfra8p0\\LocalCache\\local-packages\\Python312\\site-packages\\sklearn\\metrics\\_classification.py:1565: UndefinedMetricWarning: Precision is ill-defined and being set to 0.0 in labels with no predicted samples. Use `zero_division` parameter to control this behavior.\n",
      "  _warn_prf(average, modifier, f\"{metric.capitalize()} is\", len(result))\n",
      "C:\\Users\\renan\\AppData\\Local\\Packages\\PythonSoftwareFoundation.Python.3.12_qbz5n2kfra8p0\\LocalCache\\local-packages\\Python312\\site-packages\\sklearn\\metrics\\_classification.py:1565: UndefinedMetricWarning: Precision is ill-defined and being set to 0.0 in labels with no predicted samples. Use `zero_division` parameter to control this behavior.\n",
      "  _warn_prf(average, modifier, f\"{metric.capitalize()} is\", len(result))\n"
     ]
    },
    {
     "data": {
      "application/vnd.microsoft.datawrangler.viewer.v0+json": {
       "columns": [
        {
         "name": "index",
         "rawType": "int64",
         "type": "integer"
        },
        {
         "name": "train_shape",
         "rawType": "object",
         "type": "unknown"
        },
        {
         "name": "test_shape",
         "rawType": "object",
         "type": "unknown"
        },
        {
         "name": "accuracy",
         "rawType": "object",
         "type": "unknown"
        },
        {
         "name": "macro_f1",
         "rawType": "object",
         "type": "unknown"
        },
        {
         "name": "weighted_f1",
         "rawType": "object",
         "type": "unknown"
        },
        {
         "name": "macro_precision",
         "rawType": "object",
         "type": "unknown"
        },
        {
         "name": "macro_recall",
         "rawType": "object",
         "type": "unknown"
        }
       ],
       "ref": "623893a5-9711-410d-9479-415e1290520c",
       "rows": [
        [
         "1",
         "(1043, 532)",
         "(261, 532)",
         "0.7088122605363985",
         "0.20254789272030652",
         "0.6249702734839475",
         "0.2548920377867746",
         "0.21421985815602834"
        ],
        [
         "5",
         "(1043, 532)",
         "(261, 532)",
         "0.2222222222222222",
         "0.14230647509336034",
         "0.13883026206372728",
         "0.12189112719488804",
         "0.21070967741935487"
        ],
        [
         "30",
         "(1043, 532)",
         "(261, 532)",
         "0.2835249042145594",
         "0.1389238020424195",
         "0.20982052833232506",
         "0.13208955223880597",
         "0.20061648280337444"
        ],
        [
         "90",
         "(1043, 532)",
         "(261, 532)",
         "0.11494252873563218",
         "0.05084745762711864",
         "0.02922267679719462",
         "0.029126213592233007",
         "0.2"
        ]
       ],
       "shape": {
        "columns": 7,
        "rows": 4
       }
      },
      "text/html": [
       "<div>\n",
       "<style scoped>\n",
       "    .dataframe tbody tr th:only-of-type {\n",
       "        vertical-align: middle;\n",
       "    }\n",
       "\n",
       "    .dataframe tbody tr th {\n",
       "        vertical-align: top;\n",
       "    }\n",
       "\n",
       "    .dataframe thead th {\n",
       "        text-align: right;\n",
       "    }\n",
       "</style>\n",
       "<table border=\"1\" class=\"dataframe\">\n",
       "  <thead>\n",
       "    <tr style=\"text-align: right;\">\n",
       "      <th></th>\n",
       "      <th>train_shape</th>\n",
       "      <th>test_shape</th>\n",
       "      <th>accuracy</th>\n",
       "      <th>macro_f1</th>\n",
       "      <th>weighted_f1</th>\n",
       "      <th>macro_precision</th>\n",
       "      <th>macro_recall</th>\n",
       "    </tr>\n",
       "  </thead>\n",
       "  <tbody>\n",
       "    <tr>\n",
       "      <th>1</th>\n",
       "      <td>(1043, 532)</td>\n",
       "      <td>(261, 532)</td>\n",
       "      <td>0.708812</td>\n",
       "      <td>0.202548</td>\n",
       "      <td>0.62497</td>\n",
       "      <td>0.254892</td>\n",
       "      <td>0.21422</td>\n",
       "    </tr>\n",
       "    <tr>\n",
       "      <th>5</th>\n",
       "      <td>(1043, 532)</td>\n",
       "      <td>(261, 532)</td>\n",
       "      <td>0.222222</td>\n",
       "      <td>0.142306</td>\n",
       "      <td>0.13883</td>\n",
       "      <td>0.121891</td>\n",
       "      <td>0.21071</td>\n",
       "    </tr>\n",
       "    <tr>\n",
       "      <th>30</th>\n",
       "      <td>(1043, 532)</td>\n",
       "      <td>(261, 532)</td>\n",
       "      <td>0.283525</td>\n",
       "      <td>0.138924</td>\n",
       "      <td>0.209821</td>\n",
       "      <td>0.13209</td>\n",
       "      <td>0.200616</td>\n",
       "    </tr>\n",
       "    <tr>\n",
       "      <th>90</th>\n",
       "      <td>(1043, 532)</td>\n",
       "      <td>(261, 532)</td>\n",
       "      <td>0.114943</td>\n",
       "      <td>0.050847</td>\n",
       "      <td>0.029223</td>\n",
       "      <td>0.029126</td>\n",
       "      <td>0.2</td>\n",
       "    </tr>\n",
       "  </tbody>\n",
       "</table>\n",
       "</div>"
      ],
      "text/plain": [
       "    train_shape  test_shape  accuracy  macro_f1 weighted_f1 macro_precision  \\\n",
       "1   (1043, 532)  (261, 532)  0.708812  0.202548     0.62497        0.254892   \n",
       "5   (1043, 532)  (261, 532)  0.222222  0.142306     0.13883        0.121891   \n",
       "30  (1043, 532)  (261, 532)  0.283525  0.138924    0.209821         0.13209   \n",
       "90  (1043, 532)  (261, 532)  0.114943  0.050847    0.029223        0.029126   \n",
       "\n",
       "   macro_recall  \n",
       "1       0.21422  \n",
       "5       0.21071  \n",
       "30     0.200616  \n",
       "90          0.2  "
      ]
     },
     "metadata": {},
     "output_type": "display_data"
    }
   ],
   "source": [
    "from sklearn.ensemble import RandomForestClassifier\n",
    "from sklearn.model_selection import GridSearchCV\n",
    "from sklearn.metrics import classification_report, confusion_matrix, accuracy_score\n",
    "import pandas as pd\n",
    "import numpy as np\n",
    "\n",
    "RANDOM_STATE = 42\n",
    "param_grid = {\n",
    "    'n_estimators': [100, 200, 300],\n",
    "    'max_depth': [5, 10, 20],\n",
    "    'min_samples_leaf': [5, 10, 20],\n",
    "    'max_features': ['sqrt', 'log2']\n",
    "}\n",
    "horizons = [1, 5, 30, 90]   \n",
    "\n",
    "results_by_horizon = {}\n",
    "models_by_horizon = {}\n",
    "\n",
    "for hz in horizons:\n",
    "    print(\"=\"*50)\n",
    "    print(f\">>> HORIZON: {hz} <<<\")\n",
    "    # 1. Filtra para o horizon específico\n",
    "    df_hz = df_long[df_long['horizon']==hz].sort_values('date').reset_index(drop=True)\n",
    "    # 2. Split temporal como no modelo global\n",
    "    unique_dates = df_hz['date'].sort_values().unique()\n",
    "    split_ix = int(0.8 * len(unique_dates))\n",
    "    train_dates = unique_dates[:split_ix]\n",
    "    test_dates = unique_dates[split_ix:]\n",
    "    X_train = df_hz[df_hz['date'].isin(train_dates)][feature_cols]\n",
    "    y_train = df_hz[df_hz['date'].isin(train_dates)]['target']\n",
    "    X_test = df_hz[df_hz['date'].isin(test_dates)][feature_cols]\n",
    "    y_test = df_hz[df_hz['date'].isin(test_dates)]['target']\n",
    "    print(f\"Treino: X = {X_train.shape}, Teste: X = {X_test.shape}\")\n",
    "    print(\"Classes treino:\", y_train.value_counts().to_dict())\n",
    "    print(\"Classes teste:\", y_test.value_counts().to_dict())\n",
    "    \n",
    "    # 3. Grid search\n",
    "    rf = RandomForestClassifier(random_state=RANDOM_STATE, class_weight='balanced', n_jobs=-1)\n",
    "    clf_grid = GridSearchCV(\n",
    "        estimator=rf,\n",
    "        param_grid=param_grid,\n",
    "        scoring='accuracy', \n",
    "        n_jobs=-1,\n",
    "        cv=3,\n",
    "        verbose=2\n",
    "    )\n",
    "    clf_grid.fit(X_train, y_train)\n",
    "    best_rf = clf_grid.best_estimator_\n",
    "    models_by_horizon[hz] = best_rf\n",
    "    y_pred = best_rf.predict(X_test)\n",
    "    acc = accuracy_score(y_test, y_pred)\n",
    "    cl_report = classification_report(y_test, y_pred, output_dict=True)\n",
    "    # Guarde resultados e métricas-chave\n",
    "    results_by_horizon[hz] = {\n",
    "        \"best_params\": clf_grid.best_params_,\n",
    "        \"train_shape\": X_train.shape,\n",
    "        \"test_shape\": X_test.shape,\n",
    "        \"accuracy\": acc,\n",
    "        \"macro_f1\": cl_report[\"macro avg\"][\"f1-score\"],\n",
    "        \"weighted_f1\": cl_report[\"weighted avg\"][\"f1-score\"],\n",
    "        \"macro_precision\": cl_report[\"macro avg\"][\"precision\"],\n",
    "        \"macro_recall\": cl_report[\"macro avg\"][\"recall\"],\n",
    "        \"confusion_matrix\": confusion_matrix(y_test, y_pred, labels=best_rf.classes_),\n",
    "        \"class_report\": cl_report\n",
    "    }\n",
    "    print(f\"Melhores parâmetros: {clf_grid.best_params_}\")\n",
    "    print(f'Acurácia: {acc:.3f}')\n",
    "    print(classification_report(y_test, y_pred))\n",
    "\n",
    "# 4. métricas em uma tabela\n",
    "metrics_df = pd.DataFrame({\n",
    "    hz: {k: v for k, v in results.items() if not isinstance(v, (np.ndarray, dict))}\n",
    "    for hz, results in results_by_horizon.items()\n",
    "}).T\n",
    "print(\"Resumo métricas por horizon:\")\n",
    "display(metrics_df)\n"
   ]
  },
  {
   "cell_type": "code",
   "execution_count": null,
   "id": "5eff0d3a",
   "metadata": {},
   "outputs": [
    {
     "name": "stdout",
     "output_type": "stream",
     "text": [
      "\n",
      "🔎 Tabela comparativa (modelo único VS modelo por horizon):\n",
      "\n",
      "   horizon  unico_accuracy  unico_macro_f1  unico_weighted_f1  \\\n",
      "0        1           0.108           0.048              0.026   \n",
      "1        5           0.138           0.059              0.041   \n",
      "2       30           0.092           0.042              0.019   \n",
      "3       90           0.121           0.053              0.032   \n",
      "\n",
      "   unico_macro_precision  unico_macro_recall  horiz_accuracy  horiz_macro_f1  \\\n",
      "0                  0.027                 0.2           0.709           0.202   \n",
      "1                  0.035                 0.2           0.222           0.142   \n",
      "2                  0.024                 0.2           0.284           0.139   \n",
      "3                  0.031                 0.2           0.115           0.051   \n",
      "\n",
      "   horiz_weighted_f1  horiz_macro_precision  horiz_macro_recall  \n",
      "0              0.625                  0.255               0.214  \n",
      "1              0.139                  0.122               0.211  \n",
      "2              0.210                  0.132               0.201  \n",
      "3              0.029                  0.029               0.200  \n"
     ]
    },
    {
     "data": {
      "image/png": "[encoded data removed]",
      "text/plain": [
       "<Figure size 1000x400 with 2 Axes>"
      ]
     },
     "metadata": {},
     "output_type": "display_data"
    }
   ],
   "source": [
    "import pandas as pd\n",
    "import numpy as np\n",
    "from sklearn.metrics import accuracy_score, f1_score, precision_score, recall_score\n",
    "\n",
    "# Horizons de interesse\n",
    "rel_horizons = [1, 5, 30, 90]\n",
    "\n",
    "X_test_full = X_test.copy()\n",
    "X_test_full['horizon'] = df_long_sorted.loc[X_test.index, 'horizon'].values\n",
    "X_test_full['date'] = df_long_sorted.loc[X_test.index, 'date'].values\n",
    "y_test_full = y_test.copy()\n",
    "y_test_full.index = X_test_full.index  # garantir alinhamento dos índices\n",
    "\n",
    "# Previsões do modelo único\n",
    "y_pred_full = best_rf.predict(X_test)\n",
    "\n",
    "def get_metrics(y_true, y_pred):\n",
    "    result = {}\n",
    "    result['accuracy'] = accuracy_score(y_true, y_pred)\n",
    "    result['macro_f1'] = f1_score(y_true, y_pred, average='macro', zero_division=0)\n",
    "    result['weighted_f1'] = f1_score(y_true, y_pred, average='weighted', zero_division=0)\n",
    "    result['macro_precision'] = precision_score(y_true, y_pred, average='macro', zero_division=0)\n",
    "    result['macro_recall'] = recall_score(y_true, y_pred, average='macro', zero_division=0)\n",
    "    return result\n",
    "\n",
    "# dicionário para o modelo único\n",
    "metrics_unico = {}\n",
    "for h in rel_horizons:\n",
    "    idx = X_test_full['horizon'] == h\n",
    "    met = get_metrics(y_test_full[idx], np.array(y_pred_full)[idx])\n",
    "    metrics_unico[h] = met\n",
    "\n",
    "# Resultado modelo único em DataFrame\n",
    "df_unico = pd.DataFrame(metrics_unico).T.reset_index().rename(columns={'index': 'horizon'})\n",
    "df_unico.columns = ['horizon', 'unico_accuracy', 'unico_macro_f1', 'unico_weighted_f1',\n",
    "                    'unico_macro_precision', 'unico_macro_recall']\n",
    "\n",
    "# Para os MODELOS POR HORIZON\n",
    "metrics_por_horizon = {\n",
    "    1:   {'accuracy': 0.7088, 'macro_f1': 0.2025, 'weighted_f1': 0.6250, 'macro_precision': 0.2549, 'macro_recall': 0.2142},\n",
    "    5:   {'accuracy': 0.2222, 'macro_f1': 0.1423, 'weighted_f1': 0.1388, 'macro_precision': 0.1219, 'macro_recall': 0.2107},\n",
    "    30:  {'accuracy': 0.2835, 'macro_f1': 0.1389, 'weighted_f1': 0.2098, 'macro_precision': 0.1321, 'macro_recall': 0.2006},\n",
    "    90:  {'accuracy': 0.1149, 'macro_f1': 0.0508, 'weighted_f1': 0.0292, 'macro_precision': 0.0291, 'macro_recall': 0.2000},\n",
    "}\n",
    "df_horiz = pd.DataFrame(metrics_por_horizon).T.reset_index().rename(columns={'index': 'horizon'})\n",
    "df_horiz.columns = ['horizon', 'horiz_accuracy', 'horiz_macro_f1', 'horiz_weighted_f1',\n",
    "                    'horiz_macro_precision', 'horiz_macro_recall']\n",
    "\n",
    "# Junta os dois para comparação clara\n",
    "df_comp = pd.merge(df_unico, df_horiz, on='horizon')\n",
    "print(\"\\n🔎 Tabela comparativa (modelo único VS modelo por horizon):\\n\")\n",
    "print(df_comp.round(3))\n",
    "\n",
    "import matplotlib.pyplot as plt\n",
    "fig, ax = plt.subplots(1, 2, figsize=(10, 4))\n",
    "width = 0.35\n",
    "x = np.arange(len(rel_horizons))\n",
    "\n",
    "# Accuracy\n",
    "ax[0].bar(x - width/2, df_comp['unico_accuracy'], width, label='Modelo Único')\n",
    "ax[0].bar(x + width/2, df_comp['horiz_accuracy'], width, label='Por Horizon')\n",
    "ax[0].set_xticks(x)\n",
    "ax[0].set_xticklabels(rel_horizons)\n",
    "ax[0].set_title('Acurácia')\n",
    "ax[0].legend()\n",
    "\n",
    "# Macro F1\n",
    "ax[1].bar(x - width/2, df_comp['unico_macro_f1'], width, label='Modelo Único')\n",
    "ax[1].bar(x + width/2, df_comp['horiz_macro_f1'], width, label='Por Horizon')\n",
    "ax[1].set_xticks(x)\n",
    "ax[1].set_xticklabels(rel_horizons)\n",
    "ax[1].set_title('Macro F1')\n",
    "ax[1].legend()\n",
    "\n",
    "plt.suptitle('Comparação de Desempenho: Modelo Único vs. Por Horizon')\n",
    "plt.tight_layout()\n",
    "plt.show()\n",
    "\n"
   ]
  }
 ],
 "metadata": {
  "kernelspec": {
   "display_name": "Python 3",
   "language": "python",
   "name": "python3"
  },
  "language_info": {
   "codemirror_mode": {
    "name": "ipython",
    "version": 3
   },
   "file_extension": ".py",
   "mimetype": "text/x-python",
   "name": "python",
   "nbconvert_exporter": "python",
   "pygments_lexer": "ipython3",
   "version": "3.12.10"
  }
 },
 "nbformat": 4,
 "nbformat_minor": 5
}
